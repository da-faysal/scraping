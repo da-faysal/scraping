{
 "cells": [
  {
   "cell_type": "code",
   "execution_count": 1,
   "metadata": {},
   "outputs": [],
   "source": [
    "# Import required modules\n",
    "from selenium import webdriver\n",
    "from selenium.webdriver.support.ui import WebDriverWait\n",
    "from selenium.webdriver.support import expected_conditions as EC\n",
    "from selenium.webdriver.common.by import By\n",
    "import pandas as pd\n",
    "import time"
   ]
  },
  {
   "cell_type": "code",
   "execution_count": 2,
   "metadata": {},
   "outputs": [],
   "source": [
    "# These are the course broad categories with directory links on udemy\n",
    "broadCategory = {\n",
    "    \"development\":\"https://www.udemy.com/courses/development/\",\n",
    "    \"business\":\"https://www.udemy.com/courses/business/\",\n",
    "    \"financeAndAccounting\":\"https://www.udemy.com/courses/finance-and-accounting/\",\n",
    "    \"itAndSoftware\":\"https://www.udemy.com/courses/it-and-software/\",\n",
    "    \"officeProductivity\":\"https://www.udemy.com/courses/office-productivity/\",\n",
    "    \"personalDevelopment\":\"https://www.udemy.com/courses/personal-development/\",\n",
    "    \"design\":\"https://www.udemy.com/courses/design/\",\n",
    "    \"marketing\":\"https://www.udemy.com/courses/marketing/\",\n",
    "    \"lifeStyle\":\"https://www.udemy.com/courses/lifestyle/\",\n",
    "    \"photographyAndVideo\":\"https://www.udemy.com/courses/photography-and-video/\",\n",
    "    \"healthAndFitness\":\"https://www.udemy.com/courses/health-and-fitness/\",\n",
    "    \"teachingAndAcademics\":\"https://www.udemy.com/courses/teaching-and-academics/\",\n",
    "    \"music\":\"https://www.udemy.com/courses/music/\"\n",
    "}\n",
    "\n",
    "# Create a df with category name and corresponding links\n",
    "catDf = pd.DataFrame(broadCategory.items(), columns=[\"broadCat\", \"link\"]).set_index(\"broadCat\")"
   ]
  },
  {
   "cell_type": "code",
   "execution_count": 3,
   "metadata": {},
   "outputs": [],
   "source": [
    "# This function scrapes individual course links from a category\n",
    "def scrapeCourseLink(url, start_page, end_page):\n",
    "    \"\"\"url = broadcategory link,\n",
    "    start_page = page the scraping will be started from,\n",
    "    end_page = page the scraping will be ended on,\n",
    "    return = individual course links\"\"\"\n",
    "    \n",
    "    # Initiate web driver\n",
    "    driver = webdriver.Chrome(r\"/home/faysal/Documents/utilities/chromedriver\")\n",
    "    driver.get(url[0])\n",
    "    time.sleep(5)\n",
    "    \n",
    "    # Get total no of page\n",
    "    totalPage = driver.find_elements_by_css_selector(\".udlite-heading-sm.pagination--page--1H0A2\")[-1].text\n",
    "    \n",
    "    # Generate cover pages for broad category\n",
    "    coverPage = []\n",
    "    for pg in range(1, int(totalPage)+1):\n",
    "        coverPage.append(url[0] + f\"?p={pg}\")\n",
    "    \n",
    "    # Scrapes all the course links for a broad category\n",
    "    courseLink = []\n",
    "    for lnk in coverPage[start_page:end_page]:\n",
    "        driver.get(lnk)\n",
    "        time.sleep(6)\n",
    "        allLinks = driver.find_elements_by_css_selector(\"div.popper--popper--2r2To.popper--popper-hover--3YydE a\")\n",
    "        for lnk in allLinks:\n",
    "            courseLink.append(lnk.get_attribute(\"href\"))\n",
    "            \n",
    "    # Filters out non-course links\n",
    "    courseLink = list(filter(lambda x: \"/course/\" in x, courseLink))\n",
    "    \n",
    "    # Drop duplicate course links\n",
    "    courseLink = list(set(courseLink))\n",
    "    df = pd.DataFrame({\n",
    "        \"courseLink\":courseLink\n",
    "    })\n",
    "    \n",
    "    # Insert category name\n",
    "    df[\"category\"] = url.name\n",
    "    driver.close()\n",
    "    return df.to_excel(f\"{url.name}_courseLink.xlsx\", index=None)"
   ]
  },
  {
   "cell_type": "code",
   "execution_count": 4,
   "metadata": {},
   "outputs": [],
   "source": [
    "# Lets scrape course links for office productivity category for first 20 page and save the output file\n",
    "scrapeCourseLink(catDf.loc[\"officeProductivity\"], 0, 20)"
   ]
  }
 ],
 "metadata": {
  "kernelspec": {
   "display_name": "Python 3",
   "language": "python",
   "name": "python3"
  },
  "language_info": {
   "codemirror_mode": {
    "name": "ipython",
    "version": 3
   },
   "file_extension": ".py",
   "mimetype": "text/x-python",
   "name": "python",
   "nbconvert_exporter": "python",
   "pygments_lexer": "ipython3",
   "version": "3.8.8"
  }
 },
 "nbformat": 4,
 "nbformat_minor": 4
}
