{
 "cells": [
  {
   "cell_type": "code",
   "execution_count": 1,
   "id": "051cf3af",
   "metadata": {},
   "outputs": [],
   "source": [
    "# Import required modules\n",
    "import pandas as pd"
   ]
  },
  {
   "cell_type": "code",
   "execution_count": 2,
   "id": "c56ede1f",
   "metadata": {},
   "outputs": [
    {
     "name": "stderr",
     "output_type": "stream",
     "text": [
      "<ipython-input-2-fc37d06e0f92>:10: FutureWarning: The default value of regex will change from True to False in a future version.\n",
      "  shutter_only[\"created_link\"] = \"https://www.shutterstock.com/image-photo/\" + shutter_only[\"Image Name\"].str.split(\"_\").str[-1].str.replace(\".jpg\", \"\")\n",
      "<ipython-input-2-fc37d06e0f92>:10: SettingWithCopyWarning: \n",
      "A value is trying to be set on a copy of a slice from a DataFrame.\n",
      "Try using .loc[row_indexer,col_indexer] = value instead\n",
      "\n",
      "See the caveats in the documentation: https://pandas.pydata.org/pandas-docs/stable/user_guide/indexing.html#returning-a-view-versus-a-copy\n",
      "  shutter_only[\"created_link\"] = \"https://www.shutterstock.com/image-photo/\" + shutter_only[\"Image Name\"].str.split(\"_\").str[-1].str.replace(\".jpg\", \"\")\n",
      "<ipython-input-2-fc37d06e0f92>:15: FutureWarning: The default value of regex will change from True to False in a future version.\n",
      "  adobe_only[\"created_link\"] = \"https://stock.adobe.com/\" + adobe_only[\"Image Name\"].str.split(\"_\").str[-1].str.replace(\".jpeg\", \"\")\n",
      "<ipython-input-2-fc37d06e0f92>:15: SettingWithCopyWarning: \n",
      "A value is trying to be set on a copy of a slice from a DataFrame.\n",
      "Try using .loc[row_indexer,col_indexer] = value instead\n",
      "\n",
      "See the caveats in the documentation: https://pandas.pydata.org/pandas-docs/stable/user_guide/indexing.html#returning-a-view-versus-a-copy\n",
      "  adobe_only[\"created_link\"] = \"https://stock.adobe.com/\" + adobe_only[\"Image Name\"].str.split(\"_\").str[-1].str.replace(\".jpeg\", \"\")\n"
     ]
    }
   ],
   "source": [
    "# Read in main data\n",
    "main_df = pd.read_csv(\"_Bucket 3.1 - Sheet1.csv\")\n",
    "\n",
    "# Create an indicator column\n",
    "main_df[\"ind\"] = range(1, main_df.shape[0]+1)\n",
    "\n",
    "# Split out shutterstock data\n",
    "shutter_only = main_df[main_df[\"Image Name\"].str.contains(\"shutterstock\", na=False, case=False)]\n",
    "# Create page link for shutterstock to make requests to\n",
    "shutter_only[\"created_link\"] = \"https://www.shutterstock.com/image-photo/\" + shutter_only[\"Image Name\"].str.split(\"_\").str[-1].str.replace(\".jpg\", \"\")\n",
    "\n",
    "# Split out adobestock data\n",
    "adobe_only = main_df[main_df[\"Image Name\"].str.contains(\"adobestock\", na=False, case=False)]\n",
    "# Create page link for adobestock to make requests to\n",
    "adobe_only[\"created_link\"] = \"https://stock.adobe.com/\" + adobe_only[\"Image Name\"].str.split(\"_\").str[-1].str.replace(\".jpeg\", \"\")\n",
    "\n",
    "\n",
    "# Split out records except shutter and adobe\n",
    "not_shutter_adobe = main_df[~main_df[\"Image Name\"].str.contains(\"shutterstock|adobestock\", case=False, na=False)]\n",
    "\n",
    "\n",
    "# Merge stutter, adobe and not shutter-adobe after creating links\n",
    "main_with_link = pd.concat([shutter_only, adobe_only, not_shutter_adobe]).sort_values(\"ind\").reset_index(drop=True)"
   ]
  },
  {
   "cell_type": "code",
   "execution_count": 3,
   "id": "8aef4249",
   "metadata": {},
   "outputs": [
    {
     "name": "stderr",
     "output_type": "stream",
     "text": [
      "<ipython-input-3-10401a69cd8c>:7: FutureWarning: The default value of regex will change from True to False in a future version. In addition, single character regular expressions will*not* be treated as literal strings when regex=True.\n",
      "  merged_scraped.keywords = merged_scraped.keywords.str.replace(\"[\", \"\").str.replace(\"'\", \"\").str.replace(\"]\", \"\")\n"
     ]
    }
   ],
   "source": [
    "# Read in shutter and adobe stock scraped data\n",
    "shutter_scraped = pd.read_csv(\"bucket_3.1_shutterstock_scraped.csv\")\n",
    "adobe_scraped = pd.read_csv(\"bucket_3.1_adobestock_scraped.csv\")\n",
    "\n",
    "# Merge scraped shutter and adobe\n",
    "merged_scraped = pd.concat([shutter_scraped, adobe_scraped])\n",
    "merged_scraped.keywords = merged_scraped.keywords.str.replace(\"[\", \"\").str.replace(\"'\", \"\").str.replace(\"]\", \"\")"
   ]
  },
  {
   "cell_type": "code",
   "execution_count": 4,
   "id": "4651f9ac",
   "metadata": {},
   "outputs": [],
   "source": [
    "# Seperate main data with and without created link\n",
    "main_with_created_link = main_with_link[main_with_link.created_link.notna()]\n",
    "main_without_created_link = main_with_link[main_with_link.created_link.isna()]"
   ]
  },
  {
   "cell_type": "code",
   "execution_count": 5,
   "id": "449421a0",
   "metadata": {},
   "outputs": [],
   "source": [
    "# Merge on created link\n",
    "merged_on_created_link = pd.merge(main_with_created_link, merged_scraped, on=\"created_link\", how=\"left\")\n",
    "\n",
    "\n",
    "# Final merge\n",
    "final_merge = pd.concat([merged_on_created_link, main_without_created_link]).sort_values(\"ind\")\n",
    "\n",
    "# Keep only the required columns\n",
    "final_merge = final_merge.loc[:, [\"Course Name\", \"Module Name\", \"Image Name\", \n",
    "                                  \"Date\", \"Size\", \"URL\", \"Description\",\n",
    "                                 \"ind\", \"created_link\", \"title\", \"category\", \"keywords\", \"source_link\"]]"
   ]
  },
  {
   "cell_type": "code",
   "execution_count": 6,
   "id": "4c769ef4",
   "metadata": {},
   "outputs": [],
   "source": [
    "# Rename columns\n",
    "final_merge.columns = [\n",
    "    \"Course Name\", \n",
    "    \"Module Name\",\n",
    "    \"Image Name\",\n",
    "    \"Date\",\n",
    "    \"Size\",\n",
    "    \"URL\",\n",
    "    \"Description\",\n",
    "    \"ind\",\n",
    "    \"Shutterstock Link\",\n",
    "    \"Image Title\",\n",
    "    \"Category\",\n",
    "    \"Keywords\",\n",
    "    \"Shutterstock Preview Image Link\"\n",
    "]\n",
    "\n",
    "# Reorganize columns as intended orders\n",
    "final_merge = final_merge.loc[:, [\"Course Name\", \"Module Name\", \"Image Name\", \"Date\", \"Size\",\n",
    "                                  \"URL\", \"Description\", \"Image Title\", \"Category\", \"Keywords\",\n",
    "                                  \"Shutterstock Link\", \"Shutterstock Preview Image Link\"]]"
   ]
  },
  {
   "cell_type": "code",
   "execution_count": 7,
   "id": "50030ee1",
   "metadata": {},
   "outputs": [],
   "source": [
    "final_merge.to_excel(\"bucket_3.1_alligned.xlsx\", index=None)"
   ]
  }
 ],
 "metadata": {
  "kernelspec": {
   "display_name": "Python 3",
   "language": "python",
   "name": "python3"
  },
  "language_info": {
   "codemirror_mode": {
    "name": "ipython",
    "version": 3
   },
   "file_extension": ".py",
   "mimetype": "text/x-python",
   "name": "python",
   "nbconvert_exporter": "python",
   "pygments_lexer": "ipython3",
   "version": "3.8.8"
  }
 },
 "nbformat": 4,
 "nbformat_minor": 5
}
