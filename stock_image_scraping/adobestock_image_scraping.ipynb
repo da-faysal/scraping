{
 "cells": [
  {
   "cell_type": "code",
   "execution_count": 1,
   "id": "eed15e76",
   "metadata": {},
   "outputs": [],
   "source": [
    "# Import required modules\n",
    "import pandas as pd\n",
    "from selenium import webdriver\n",
    "import time"
   ]
  },
  {
   "cell_type": "code",
   "execution_count": 2,
   "id": "c70a0224",
   "metadata": {},
   "outputs": [
    {
     "name": "stderr",
     "output_type": "stream",
     "text": [
      "<ipython-input-2-e95e34a5100e>:6: FutureWarning: The default value of regex will change from True to False in a future version.\n",
      "  adobestock_df[\"image_page_link\"] = \"https://stock.adobe.com/\" + adobestock_df[\"Image Name\"].str.split(\"_\").str[-1].str.replace(\".jpeg\", \"\")\n",
      "<ipython-input-2-e95e34a5100e>:6: SettingWithCopyWarning: \n",
      "A value is trying to be set on a copy of a slice from a DataFrame.\n",
      "Try using .loc[row_indexer,col_indexer] = value instead\n",
      "\n",
      "See the caveats in the documentation: https://pandas.pydata.org/pandas-docs/stable/user_guide/indexing.html#returning-a-view-versus-a-copy\n",
      "  adobestock_df[\"image_page_link\"] = \"https://stock.adobe.com/\" + adobestock_df[\"Image Name\"].str.split(\"_\").str[-1].str.replace(\".jpeg\", \"\")\n"
     ]
    }
   ],
   "source": [
    "# Read data to get adobestock image link\n",
    "df = pd.read_csv(\"_Bucket 3.1 - Sheet1.csv\")\n",
    "adobestock_df = df[df[\"Image Name\"].str.contains(\"adobestock\", case=False, na=False)]\n",
    "\n",
    "# Create image page link\n",
    "adobestock_df[\"created_link\"] = \"https://stock.adobe.com/\" + adobestock_df[\"Image Name\"].str.split(\"_\").str[-1].str.replace(\".jpeg\", \"\")"
   ]
  },
  {
   "cell_type": "code",
   "execution_count": 3,
   "id": "f16b7d8c",
   "metadata": {},
   "outputs": [],
   "source": [
    "# Initialize the drivers\n",
    "driver = webdriver.Chrome(\"/home/faysal/Documents/utilities/chromedriver\")\n",
    "\n",
    "# Empty list of variables to scrape\n",
    "title = []\n",
    "src_link = []\n",
    "category = []\n",
    "keywords = []\n",
    "created_link = []\n",
    "\n",
    "for url in adobestock_df.image_page_link.unique():\n",
    "    driver.get(url)\n",
    "    time.sleep(3)\n",
    "    \n",
    "    # Get image page link\n",
    "    created_link.append(url)\n",
    "    \n",
    "    # Scrape title\n",
    "    try:\n",
    "        try:\n",
    "            # Is see more button exists\n",
    "            see_more_button = driver.find_element_by_css_selector(\".blue.bleu-de-france-text.js-trimmer-toggle.text-sregular\")\n",
    "            see_more_button.click()\n",
    "            title.append(driver.find_element_by_css_selector(\".no-margin.beta.js-details-title\").text.replace(\"See Less\", \"\").strip())\n",
    "        except:\n",
    "            title.append(driver.find_element_by_css_selector(\".no-margin.beta.js-details-title\").text.strip())\n",
    "    except:\n",
    "        title.append(\"na\")\n",
    "    \n",
    "    # Scrape image source link\n",
    "    try:\n",
    "        src_link.append(driver.find_element_by_css_selector(\"#details-enlarged-image\").get_attribute(\"src\"))\n",
    "    except:\n",
    "        src_link.append(\"na\")\n",
    "    \n",
    "    # Scrape keywords\n",
    "    try:\n",
    "        try:\n",
    "            view_all_button = driver.find_element_by_css_selector(\".js-keywords-see-all.badge.badge--default.badge--large.grey.nurse\")\n",
    "            view_all_button.click()\n",
    "            keywords.append(driver.find_element_by_css_selector(\".details-keywords-list-original\").text.replace(\"\\n\", \", \").strip())\n",
    "        except:\n",
    "            keywords.append(driver.find_element_by_css_selector(\".details-keywords-list-original\").text.replace(\"\\n\", \", \").strip())\n",
    "    except:\n",
    "        keywords.append(\"na\")\n",
    "    \n",
    "    \n",
    "    # Scrape category\n",
    "    try:\n",
    "        category.append(driver.find_element_by_css_selector(\".js-category-link\").text.strip())\n",
    "    except:\n",
    "        category.append(\"na\")\n",
    "    \n",
    "    time.sleep(2)\n",
    "    \n",
    "\n",
    "    \n",
    "# Create a temp dataframe\n",
    "temp_df = pd.DataFrame({\n",
    "    \"image_page_link\":image_page_link,\n",
    "    \"title\":description,\n",
    "    \"category\":category,\n",
    "    \"keywords\":keywords,\n",
    "    \"source_link\":src_link\n",
    "})\n",
    "\n",
    "temp_df.to_csv(\"bucket_3.1_adobestock_scraped.csv\", index=None)"
   ]
  }
 ],
 "metadata": {
  "kernelspec": {
   "display_name": "Python 3",
   "language": "python",
   "name": "python3"
  },
  "language_info": {
   "codemirror_mode": {
    "name": "ipython",
    "version": 3
   },
   "file_extension": ".py",
   "mimetype": "text/x-python",
   "name": "python",
   "nbconvert_exporter": "python",
   "pygments_lexer": "ipython3",
   "version": "3.8.8"
  }
 },
 "nbformat": 4,
 "nbformat_minor": 5
}
