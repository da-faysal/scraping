{
 "cells": [
  {
   "cell_type": "code",
   "execution_count": 1,
   "metadata": {},
   "outputs": [],
   "source": [
    "# Import required modules\n",
    "from concurrent.futures import ProcessPoolExecutor\n",
    "import requests\n",
    "from bs4 import BeautifulSoup\n",
    "import pandas as pd\n",
    "import numpy as np\n",
    "import re\n",
    "from itertools import chain\n",
    "import time\n",
    "import urllib3"
   ]
  },
  {
   "cell_type": "code",
   "execution_count": 2,
   "metadata": {},
   "outputs": [],
   "source": [
    "# Suppress warnings\n",
    "urllib3.disable_warnings()\n",
    "\n",
    "# Define deaders and date\n",
    "HEADERS = {\"User-Agent\": \"Mozilla/5.0 (Macintosh; Intel Mac OS X 10_10_1) AppleWebKit/537.36 (KHTML, like Gecko) Chrome/39.0.2171.95 Safari/537.36\"}\n",
    "today = pd.to_datetime(\"today\").strftime(\"%d_%b_%y\")\n",
    "\n",
    "\n",
    "# Generate cover pages links\n",
    "def generateCoverPageLink(url):\n",
    "    \"\"\"This function generates cover page links from total courses,\n",
    "    url = url to make request in which total course number is found,\n",
    "    return = cover pages links\"\"\"\n",
    "    \n",
    "    # Store cover page links\n",
    "    coverPageLink = []\n",
    "    \n",
    "    # Making request\n",
    "    r = requests.get(url, headers=HEADERS, verify=False)\n",
    "    s = BeautifulSoup(r.text, \"lxml\")\n",
    "    \n",
    "    # Scrape total course number\n",
    "    totalCourse = int(s.find(\"span\", class_=\"h1\").text.strip().replace(\",\", \"\"))\n",
    "    \n",
    "    # Create stop page\n",
    "    stopPage = int(np.ceil(totalCourse/100))\n",
    "    \n",
    "    # Iterate through stop page and create cover page links\n",
    "    for page in range(1, stopPage+1):\n",
    "        coverPageLink.append(url + f\"?pageno={page}&sortby=MostPopular&pagesize=100\")\n",
    "    return coverPageLink\n",
    "\n",
    "\n",
    "\n",
    "# This function scrapes individual course links from every cover page links\n",
    "def scrapeIndividualCourseLink(url):\n",
    "    \"\"\"Scrapes individual course link from cover page links,\n",
    "    url = cover page link,\n",
    "    return = Individual course links\"\"\"\n",
    "    \n",
    "    # Store course links\n",
    "    courseLink = []\n",
    "    \n",
    "    # Making request\n",
    "    r = requests.get(url, headers=HEADERS, verify=False)\n",
    "    s = BeautifulSoup(r.text, \"lxml\")\n",
    "    \n",
    "    # Scrape course links and store\n",
    "    for lnk in s.find_all(\"div\", class_=\"course-overview\"):\n",
    "        courseLink.append(\"https://www.reed.co.uk\" + lnk.find(\"h2\").find(\"a\").get(\"href\"))\n",
    "    return courseLink\n",
    "\n",
    "\n",
    "\n",
    "\n",
    "# This function scrapes individual course info from individual course link\n",
    "def scrapeCourseInfo(url):\n",
    "    \"\"\"url = individual course link,\n",
    "    return = scraped course info as a dataframe\"\"\"\n",
    "    \n",
    "    # Initialize empty list of variables to be scraped\n",
    "    courseTitle = []\n",
    "    subtitle = []\n",
    "    offerPrice = []\n",
    "    originalPrice = []\n",
    "    courseProvider = []\n",
    "    unitSold = []\n",
    "    category = []\n",
    "    savings = []\n",
    "    haveCpd = []\n",
    "    awardingBody = []\n",
    "    qualName = []\n",
    "    cpdPoint = []\n",
    "    isRegulated = []\n",
    "    hasProfCert = []\n",
    "    soldOrEnq = []\n",
    "    \n",
    "    # Making request\n",
    "    r = requests.get(url, headers=HEADERS, verify=False)\n",
    "    s = BeautifulSoup(r.text, \"lxml\")\n",
    "    \n",
    "    # Scrape course name\n",
    "    try:\n",
    "        courseTitle.append(s.find(\"div\", class_=\"course-title\").find(\"h1\").text.strip())\n",
    "    except:\n",
    "        courseTitle.append(\"na\")\n",
    "        \n",
    "    # Scrape subtitle\n",
    "    try:\n",
    "        subtitle.append(s.find(\"div\", class_=\"course-title\").find(\"h2\").text.strip())\n",
    "    except:\n",
    "        subtitle.append(\"na\")\n",
    "        \n",
    "    # Scrape offer price\n",
    "    try:\n",
    "        offerPrice.append(s.find(\"span\", class_=\"current-price\").text.strip())\n",
    "    except:\n",
    "        offerPrice.append(\"na\")\n",
    "        \n",
    "    # Scrape original price\n",
    "    try:\n",
    "        originalPrice.append(s.find(\"small\", class_=\"vat-status\").text.strip())\n",
    "    except:\n",
    "        originalPrice.append(\"na\")\n",
    "        \n",
    "    # Scrape course provider\n",
    "    try:\n",
    "        try:\n",
    "            courseProvider.append(s.find(\"a\", class_=\"provider-link\").text.strip())\n",
    "        except:\n",
    "            courseProvider.append(s.find(\"span\", class_=\"thumbnail\").text.strip())\n",
    "    except:\n",
    "        courseProvider.append(\"na\")\n",
    "            \n",
    "    # Scrape unit sale\n",
    "    try:\n",
    "        unitSold.append(s.find(id=\"number-enquiries-purchases\").text.strip())\n",
    "    except:\n",
    "        unitSold.append(0)\n",
    "        \n",
    "    # Scrape category\n",
    "    try:\n",
    "        # Scrape total category\n",
    "        totalCat = len(s.find_all(\"ol\", class_=\"breadcrumb pb-0\"))\n",
    "        for cat in range(totalCat):\n",
    "            category.append([x.text.strip() for x in s.find_all(\"ol\", class_=\"breadcrumb pb-0\")[cat].find_all(\"li\")])\n",
    "    except:\n",
    "        category.append(\"na\")\n",
    "        \n",
    "    # Scrape savings\n",
    "    try:\n",
    "        savings.append(s.find(\"span\", class_=\"icon-savings-tag price-saving\").text.strip())\n",
    "    except:\n",
    "        savings.append(\"na\")\n",
    "        \n",
    "    # Does the course have CPD?\n",
    "    try:\n",
    "        haveCpd.append(1 if s.find(\"div\", class_=\"badge badge-dark badge-cpd mt-2\") else 0)\n",
    "    except:\n",
    "        haveCpd.append(0)\n",
    "    \n",
    "    # Scrape awarding body\n",
    "    try:\n",
    "        try:\n",
    "            # Executes if the course is \"Endorsed by\"\n",
    "            awardingBody.append(s.find(\"div\", class_=\"col\").find(\"a\").text.strip())\n",
    "        except:\n",
    "            # Executes if the course is \"Awarded by\"\n",
    "            awardingBody.append(s.find(\"div\", class_=\"small\").find(\"div\").find(\"a\").text.strip())\n",
    "    except:\n",
    "        awardingBody.append(\"na\")\n",
    "            \n",
    "    # Scrape qualification name\n",
    "    try:\n",
    "        qualName.append(s.find(\"div\", class_=\"small\").find(\"h3\", class_=\"h4\").text.strip())\n",
    "    except:\n",
    "        qualName.append(\"na\")\n",
    "    \n",
    "    # Scrape cpd point\n",
    "    try:\n",
    "        cpdPoint.append(s.body.find_all(text=re.compile(\"\\d{1,3}\\sCPD hours / points\"))[0].strip())\n",
    "    except:\n",
    "        cpdPoint.append(0)\n",
    "        \n",
    "    # Is the course regulated? Assign 1 if regulated, otherwise 0\n",
    "    try:\n",
    "        isRegulated.append(1 if s.find(\"div\", class_=\"badge badge-dark badge-regulated mt-2\") else 0)\n",
    "    except:\n",
    "        isRegulated.append(0)\n",
    "        \n",
    "    # Does the course offer professional certification?\n",
    "    try:\n",
    "        hasProfCert.append(1 if s.find(\"div\", class_=\"badge badge-dark badge-professional mt-2\") else 0)\n",
    "    except:\n",
    "        hasProfCert.append(0)\n",
    "    \n",
    "    # Check if the course is sold or enquired. 2 if the course has both purchade and enquired mode\n",
    "    try:\n",
    "        soldOrEnq.append(2 if (s.find(id=\"addToBasket\") and s.find(id=\"enquireNow\"))\\\n",
    "        else 1 if s.find(id=\"addToBasket\") else 0)\n",
    "    except:\n",
    "        soldOrEnq.append(\"na\")\n",
    "        \n",
    "    # Create a df off scraped variables\n",
    "    df = pd.DataFrame({\n",
    "        \"courseTitle\":courseTitle,\n",
    "        \"courseLink\":url,\n",
    "        \"subtitle\":subtitle,\n",
    "        \"courseProvider\":courseProvider,\n",
    "        \"offerPrice\":offerPrice,\n",
    "        \"originalPrice\":originalPrice,\n",
    "        \"unitSold\":unitSold,\n",
    "        \"category\":[category], # This one is not scalar, converting into 1d\n",
    "        \"haveCpd\":haveCpd,\n",
    "        \"cpdPoint\":cpdPoint,\n",
    "        \"awardingBody\":[awardingBody],\n",
    "        \"qualName\":qualName,\n",
    "        \"isRegulated\":isRegulated,\n",
    "        \"hasProfCert\":hasProfCert,\n",
    "        \"savings\":savings,\n",
    "        \"soldOrEnq\":soldOrEnq\n",
    "    })\n",
    "    df = df.astype(str)\n",
    "    return df\n",
    "\n",
    "\n",
    "\n",
    "# This function cleans scraped data.\n",
    "def cleanAndExtractFeature(df):\n",
    "    \"\"\"\"df = dataFrame to clean,\n",
    "    return = final cleaned data\"\"\"\n",
    "    \n",
    "    # Copy the input data\n",
    "    finalDf = df.copy()\n",
    "    \n",
    "    # Create course id and insert to the df\n",
    "    finalDf.insert(loc=0, value=finalDf.courseLink.str.split(\"/\").str.get(5).str.replace(\"#\",\"\"), \n",
    "                     column=\"courseId\")\n",
    "    \n",
    "    # Insert date\n",
    "    finalDf.insert(loc=0, value=today, column=\"date\")\n",
    "    \n",
    "    # Clean unit sold\n",
    "    finalDf.unitSold = finalDf.unitSold.apply(lambda x: re.findall(r\"\\d+\", x)).str.join(\"\")\n",
    "    finalDf.unitSold = pd.to_numeric(finalDf.unitSold, errors=\"coerce\").fillna(0).astype(\"int\")\n",
    "    \n",
    "    # Clean saving percent\n",
    "    finalDf[\"savingsPercent\"] = finalDf.savings.str.split(\"Save\").str[-1].str.replace(\"%\", \"\")\n",
    "    finalDf.savingsPercent = pd.to_numeric(finalDf.savingsPercent, errors=\"coerce\").fillna(0).astype(\"int\")\n",
    "    \n",
    "    # Clean offer price\n",
    "    finalDf.offerPrice = finalDf.offerPrice.str.split(\"£\").str[-1].str.replace(\",\", \"\")\n",
    "    \n",
    "    # Clean original price\n",
    "    finalDf.originalPrice = finalDf.originalPrice.str.split(\"£\").str[-1].str.replace(\",\", \"\").str.replace(\")\", \"\")\n",
    "    finalDf.originalPrice = pd.to_numeric(finalDf.originalPrice, errors=\"coerce\")\n",
    "    \n",
    "    # If savings is 0, make offer price equals to original price\n",
    "    finalDf.originalPrice = np.where(finalDf.savingsPercent==0,\n",
    "                                     finalDf.originalPrice.fillna(finalDf.offerPrice), finalDf.originalPrice)\n",
    "    \n",
    "    # Extract CPD point\n",
    "    finalDf[\"cpdPoint\"] = pd.to_numeric(finalDf.cpdPoint.str.join(\"\").str.split(\"CPD\").str[0], errors=\"coerce\").fillna(0).astype(int)\n",
    "    \n",
    "    # Clean CPD provider\n",
    "    finalDf[\"cpdProvider\"]  = finalDf.cpdProvider.str.join(\"\").str.replace(\"Accredited by\", \"\").str.strip()\n",
    "    \n",
    "    # Remove '\"' from category\n",
    "    finalDf.category = finalDf.category.apply(lambda x: eval(x))\n",
    "    \n",
    "    # Create broadCategory1 from category\n",
    "    finalDf[\"broadCategory1\"] = finalDf.category.str[0].str[0]\n",
    "    \n",
    "    # Create broadCategory2 from category\n",
    "    finalDf[\"broadCategory2\"] = finalDf.category.str[-1].str[0]\n",
    "    \n",
    "    # Create subCategory1 from category\n",
    "    finalDf[\"subCategory1\"] = finalDf.category.str[0].str[-1]\n",
    "    \n",
    "    # Create subCategory1 from category\n",
    "    finalDf[\"subCategory2\"] = finalDf.category.str[-1].str[-1]\n",
    "    \n",
    "    # Extract qualification name\n",
    "    finalDf[\"qualName\"] = np.where(finalDf.qualName.str.contains(\"CPD\"), \"na\", finalDf.qualName)\n",
    "    \n",
    "    # Clean awarding body\n",
    "    finalDf.awardingBody = finalDf.awardingBody.str[1:-1].str[1:-1]\\\n",
    "    .str.strip().replace(r\"^\\s*$\", np.nan, regex=True).fillna(\"na\")\n",
    "    \n",
    "    # Drop \"savings\"\n",
    "    finalDf.drop(\"savings\", axis=1, inplace=True)\n",
    "    \n",
    "    # Drop duplicates by \"courseId\"\n",
    "    finalDf = finalDf.drop_duplicates(\"courseId\")\n",
    "    return finalDf"
   ]
  },
  {
   "cell_type": "code",
   "execution_count": 3,
   "metadata": {},
   "outputs": [],
   "source": [
    "# Wrap all the functions inside main\n",
    "def main(url):\n",
    "    \"\"\"url = url to make the 1st requests to generate cover pages,\n",
    "    return = final cleaned dataframe\"\"\"\n",
    "    \n",
    "    # Record start time\n",
    "    startTime = time.time()\n",
    "    \n",
    "    # Generates cover pages links\n",
    "    coverPageLink = generateCoverPageLink(url)\n",
    "    \n",
    "    # Store individual course links\n",
    "    courseLink = []\n",
    "    \n",
    "    # This loop ensures maximum no of course links scraped\n",
    "    for _ in range(4):\n",
    "        with ProcessPoolExecutor(max_workers=6) as ex:\n",
    "            # Scrape individual course links\n",
    "            indCourseLink = list(ex.map(scrapeIndividualCourseLink, coverPageLink))\n",
    "            indCourseLink = list(chain(*indCourseLink)) # Flattening the list\n",
    "        courseLink.append(indCourseLink)\n",
    "    courseLink = list(chain(*courseLink))\n",
    "    \n",
    "    # Create a series to drop duplicates by ids. This portion keeps only the unique links\n",
    "    tempSeries = pd.Series(courseLink, name=\"tempLink\")\n",
    "    splitTempSeries = tempSeries.str.split(\"/\", expand=True)\n",
    "    splitTempSeries.columns = [\"a\",\"b\",\"c\",\"d\",\"e\",\"f\",\"g\",\"h\",\"i\"]\n",
    "    duplicatesDropped = splitTempSeries.drop_duplicates(\"f\", keep=\"first\").reset_index(drop=True)\n",
    "    courseLink = duplicatesDropped.agg(\"/\".join, axis=1) # This returns a series of course links\n",
    "    \n",
    "        \n",
    "    # Scrapes course info from course link\n",
    "    with ProcessPoolExecutor(max_workers=6) as ex:\n",
    "        courseInfo = pd.concat(list(ex.map(scrapeCourseInfo, courseLink))).reset_index(drop=True)\n",
    "    \n",
    "    # Cleans and engineers new features from the scraped dataframe and returns the final dataframe   \n",
    "    finalDf = cleanAndExtractFeature(courseInfo).reset_index(drop=True)\n",
    "    \n",
    "    # Measure execution time and return the final df\n",
    "    endTime = time.time()\n",
    "    durationInMins = round((endTime-startTime)/60, 2)\n",
    "    print(f\"{url.split('/')[4].capitalize()} ==> {len(courseLink)} Records ==> {durationInMins} Minutes\")\n",
    "    return finalDf"
   ]
  },
  {
   "cell_type": "code",
   "execution_count": 4,
   "metadata": {},
   "outputs": [],
   "source": [
    "# These are the providers urls scraping will we started from.\n",
    "providersUrl = {\"oneEdu\":\"https://www.reed.co.uk/courses/one-education/p1812\",\n",
    "    \"courseGate\":\"https://www.reed.co.uk/courses/course-gate/p1834\",\n",
    "    \"janets\":\"https://www.reed.co.uk/courses/janets/p1778\",\n",
    "    \"eustonCollege\":\"https://www.reed.co.uk/courses/euston-college/p2128\",\n",
    "    \"tx\":\"https://www.reed.co.uk/courses/training-express-ltd/p2079\",\n",
    "    \"hfOnline\":\"https://www.reed.co.uk/courses/academy-for-health-fitness/p2261\",\n",
    "    \"beaco\":\"https://www.reed.co.uk/courses/be-acouk/p545\",\n",
    "    \"cpdCourses\":\"https://www.reed.co.uk/courses/cpd-courses/p1534\",\n",
    "    \"brentwood\":\"https://www.reed.co.uk/courses/brentwood-open-learning-college/p438\",\n",
    "    \"oplex\":\"https://www.reed.co.uk/courses/oplex-careers/p630\",\n",
    "    \"oxford\":\"https://www.reed.co.uk/courses/oxford-home-study-college/p1245\",\n",
    "    \"trainingTerminal\":\"https://www.reed.co.uk/courses/the-training-terminal/p1064\",\n",
    "    \"excelWithBusiness\":\"https://www.reed.co.uk/courses/excel-with-business/p930\",\n",
    "    \"ofCourse\":\"https://www.reed.co.uk/courses/ofcourse/p675\",\n",
    "    \"trendimi\":\"https://www.reed.co.uk/courses/trendimi/p964\",\n",
    "    \"centreOfExcellence\":\"https://www.reed.co.uk/courses/centre-of-excellence-online/p652\",\n",
    "    \"leadAcademy\":\"https://www.reed.co.uk/courses/lead-academy/p2144\",\n",
    "    \"bekeCollege\":\"https://www.reed.co.uk/courses/beke-college-cic/p2140\",\n",
    "    \"protrainings\":\"https://www.reed.co.uk/courses/protrainings-europe-limited/p981\",\n",
    "    \"mandatoryCompliance\":\"https://www.reed.co.uk/courses/mandatory-compliance/p1514\",\n",
    "    \"intOpenAcademy\":\"https://www.reed.co.uk/courses/international-open-academy/p967\",\n",
    "    \"skillUp\":\"https://www.reed.co.uk/courses/skill-up/p2339\", \n",
    "    \"simplyCert\":\"https://www.reed.co.uk/courses/simply-cert/p669\",\n",
    "    \"courseCloud\":\"https://www.reed.co.uk/courses/course-cloud/p2413\",\n",
    "    \"teachersTraining\":\"https://www.reed.co.uk/courses/the-teachers-training/p2334\",\n",
    "    \"1training\":\"https://www.reed.co.uk/courses/1-training/p1312\",\n",
    "    \"instituteOfBeauty\":\"https://www.reed.co.uk/courses/institute-of-beauty-and-makeup/p2509\",\n",
    "    \"animalCare\":\"https://www.reed.co.uk/courses/the-animal-care/p2520\",\n",
    "    \"skillExpress\":\"https://www.reed.co.uk/courses/skill-express/p2510\",\n",
    "    \"complianceCentral\":\"https://www.reed.co.uk/courses/compliance-central/p2584\",\n",
    "    \"skillSuccess\":\"https://www.reed.co.uk/courses/skills-success/p1341\",\n",
    "    \"globalEdulink\":\"https://www.reed.co.uk/courses/globaledulink/p533\",\n",
    "    \"ukProfessionalDev\":\"https://www.reed.co.uk/courses/uk-professional-development-academy-ltd/p1749\",\n",
    "    \"study365\":\"https://www.reed.co.uk/courses/study365/p1060\",\n",
    "    \"staffTrainingSolution\":\"https://www.reed.co.uk/courses/staff-training-solutions/p1477\",\n",
    "    \"inspireLondonCollege\":\"https://www.reed.co.uk/courses/inspire-london-college-ltd/p1746\",\n",
    "    \"simplivllc\":\"https://www.reed.co.uk/courses/simpliv-llc/p1999\",\n",
    "    \"echo3Education\":\"https://www.reed.co.uk/courses/echo3-education-limited/p1619\",\n",
    "    \"lifeSavingTraining\":\"https://www.reed.co.uk/courses/life-saving-training-ltd/p2218\",\n",
    "    \"southLondonCollege\":\"https://www.reed.co.uk/courses/south-london-college/p1405\",\n",
    "    \"knowledgeDoor\":\"https://www.reed.co.uk/courses/knowledge-door/p2538\",\n",
    "    \"hollyAndHugo\":\"https://www.reed.co.uk/courses/holly-and-hugo/p965\",\n",
    "    \"coursePride\":\"https://www.reed.co.uk/courses/course-pride/p1706\",\n",
    "    \"activeRecruitment\":\"https://www.reed.co.uk/courses/active-recruitment-ltd/p2041\",\n",
    "    \"eCareersLifestyle\":\"https://www.reed.co.uk/courses/e-careerslifestyle/p1733\",\n",
    "    \"eventtrix\":\"https://www.reed.co.uk/courses/eventtrix/p966\",\n",
    "    \"apexLearning\":\"https://www.reed.co.uk/courses/apex-learning/p2601\",\n",
    "    \"studyHub\":\"https://www.reed.co.uk/courses/studyhub/p2675\",\n",
    "    \"nextLearn\":\"https://www.reed.co.uk/courses/next-level-academy/p1727\"\n",
    "    }"
   ]
  },
  {
   "cell_type": "code",
   "execution_count": 5,
   "metadata": {},
   "outputs": [
    {
     "name": "stderr",
     "output_type": "stream",
     "text": [
      "/home/faysal/anaconda3/lib/python3.7/site-packages/ipykernel_launcher.py:251: FutureWarning: The default value of regex will change from True to False in a future version. In addition, single character regular expressions will*not* be treated as literal strings when regex=True.\n"
     ]
    },
    {
     "name": "stdout",
     "output_type": "stream",
     "text": [
      "Skills-success ==> 2290 Records ==> 11.34 Minutes\n"
     ]
    }
   ],
   "source": [
    "skillSuccess = main(providersUrl[\"skillSuccess\"])"
   ]
  },
  {
   "cell_type": "code",
   "execution_count": 6,
   "metadata": {},
   "outputs": [
    {
     "name": "stdout",
     "output_type": "stream",
     "text": [
      "Globaledulink ==> 955 Records ==> 5.66 Minutes\n"
     ]
    },
    {
     "name": "stderr",
     "output_type": "stream",
     "text": [
      "/home/faysal/anaconda3/lib/python3.7/site-packages/ipykernel_launcher.py:251: FutureWarning: The default value of regex will change from True to False in a future version. In addition, single character regular expressions will*not* be treated as literal strings when regex=True.\n"
     ]
    }
   ],
   "source": [
    "globalEdulink = main(providersUrl[\"globalEdulink\"])"
   ]
  },
  {
   "cell_type": "code",
   "execution_count": 7,
   "metadata": {},
   "outputs": [
    {
     "name": "stdout",
     "output_type": "stream",
     "text": [
      "Uk-professional-development-academy-ltd ==> 646 Records ==> 5.76 Minutes\n"
     ]
    },
    {
     "name": "stderr",
     "output_type": "stream",
     "text": [
      "/home/faysal/anaconda3/lib/python3.7/site-packages/ipykernel_launcher.py:251: FutureWarning: The default value of regex will change from True to False in a future version. In addition, single character regular expressions will*not* be treated as literal strings when regex=True.\n"
     ]
    }
   ],
   "source": [
    "ukProfessionalDev = main(providersUrl[\"ukProfessionalDev\"])"
   ]
  },
  {
   "cell_type": "code",
   "execution_count": 8,
   "metadata": {},
   "outputs": [
    {
     "name": "stderr",
     "output_type": "stream",
     "text": [
      "/home/faysal/anaconda3/lib/python3.7/site-packages/ipykernel_launcher.py:251: FutureWarning: The default value of regex will change from True to False in a future version. In addition, single character regular expressions will*not* be treated as literal strings when regex=True.\n"
     ]
    },
    {
     "name": "stdout",
     "output_type": "stream",
     "text": [
      "Study365 ==> 1108 Records ==> 6.19 Minutes\n"
     ]
    }
   ],
   "source": [
    "study365 = main(providersUrl[\"study365\"])"
   ]
  },
  {
   "cell_type": "code",
   "execution_count": 9,
   "metadata": {},
   "outputs": [
    {
     "name": "stdout",
     "output_type": "stream",
     "text": [
      "Staff-training-solutions ==> 264 Records ==> 1.58 Minutes\n"
     ]
    },
    {
     "name": "stderr",
     "output_type": "stream",
     "text": [
      "/home/faysal/anaconda3/lib/python3.7/site-packages/ipykernel_launcher.py:251: FutureWarning: The default value of regex will change from True to False in a future version. In addition, single character regular expressions will*not* be treated as literal strings when regex=True.\n"
     ]
    }
   ],
   "source": [
    "staffTrainingSolution = main(providersUrl[\"staffTrainingSolution\"])"
   ]
  },
  {
   "cell_type": "code",
   "execution_count": 10,
   "metadata": {},
   "outputs": [
    {
     "name": "stdout",
     "output_type": "stream",
     "text": [
      "Inspire-london-college-ltd ==> 208 Records ==> 1.3 Minutes\n"
     ]
    },
    {
     "name": "stderr",
     "output_type": "stream",
     "text": [
      "/home/faysal/anaconda3/lib/python3.7/site-packages/ipykernel_launcher.py:251: FutureWarning: The default value of regex will change from True to False in a future version. In addition, single character regular expressions will*not* be treated as literal strings when regex=True.\n"
     ]
    }
   ],
   "source": [
    "inspireLondonCollege = main(providersUrl[\"inspireLondonCollege\"])"
   ]
  },
  {
   "cell_type": "code",
   "execution_count": 11,
   "metadata": {},
   "outputs": [
    {
     "name": "stderr",
     "output_type": "stream",
     "text": [
      "/home/faysal/anaconda3/lib/python3.7/site-packages/ipykernel_launcher.py:251: FutureWarning: The default value of regex will change from True to False in a future version. In addition, single character regular expressions will*not* be treated as literal strings when regex=True.\n"
     ]
    },
    {
     "name": "stdout",
     "output_type": "stream",
     "text": [
      "Simpliv-llc ==> 4437 Records ==> 21.08 Minutes\n"
     ]
    }
   ],
   "source": [
    "simplivllc = main(providersUrl[\"simplivllc\"])"
   ]
  },
  {
   "cell_type": "code",
   "execution_count": 12,
   "metadata": {},
   "outputs": [
    {
     "name": "stdout",
     "output_type": "stream",
     "text": [
      "Echo3-education-limited ==> 75 Records ==> 0.47 Minutes\n"
     ]
    },
    {
     "name": "stderr",
     "output_type": "stream",
     "text": [
      "/home/faysal/anaconda3/lib/python3.7/site-packages/ipykernel_launcher.py:251: FutureWarning: The default value of regex will change from True to False in a future version. In addition, single character regular expressions will*not* be treated as literal strings when regex=True.\n"
     ]
    }
   ],
   "source": [
    "echo3Education = main(providersUrl[\"echo3Education\"])"
   ]
  },
  {
   "cell_type": "code",
   "execution_count": 13,
   "metadata": {},
   "outputs": [
    {
     "name": "stdout",
     "output_type": "stream",
     "text": [
      "Life-saving-training-ltd ==> 34 Records ==> 0.24 Minutes\n"
     ]
    },
    {
     "name": "stderr",
     "output_type": "stream",
     "text": [
      "/home/faysal/anaconda3/lib/python3.7/site-packages/ipykernel_launcher.py:251: FutureWarning: The default value of regex will change from True to False in a future version. In addition, single character regular expressions will*not* be treated as literal strings when regex=True.\n"
     ]
    }
   ],
   "source": [
    "lifeSavingTraining = main(providersUrl[\"lifeSavingTraining\"])"
   ]
  },
  {
   "cell_type": "code",
   "execution_count": 14,
   "metadata": {},
   "outputs": [
    {
     "name": "stdout",
     "output_type": "stream",
     "text": [
      "South-london-college ==> 299 Records ==> 1.84 Minutes\n"
     ]
    },
    {
     "name": "stderr",
     "output_type": "stream",
     "text": [
      "/home/faysal/anaconda3/lib/python3.7/site-packages/ipykernel_launcher.py:251: FutureWarning: The default value of regex will change from True to False in a future version. In addition, single character regular expressions will*not* be treated as literal strings when regex=True.\n"
     ]
    }
   ],
   "source": [
    "southLondonCollege = main(providersUrl[\"southLondonCollege\"])"
   ]
  },
  {
   "cell_type": "code",
   "execution_count": 55,
   "metadata": {},
   "outputs": [
    {
     "name": "stderr",
     "output_type": "stream",
     "text": [
      "/home/faysal/anaconda3/lib/python3.7/site-packages/ipykernel_launcher.py:251: FutureWarning: The default value of regex will change from True to False in a future version. In addition, single character regular expressions will*not* be treated as literal strings when regex=True.\n"
     ]
    },
    {
     "name": "stdout",
     "output_type": "stream",
     "text": [
      "Knowledge-door ==> 2336 Records ==> 13.08 Minutes\n"
     ]
    }
   ],
   "source": [
    "knowledgeDoor = main(providersUrl[\"knowledgeDoor\"])"
   ]
  },
  {
   "cell_type": "code",
   "execution_count": 17,
   "metadata": {},
   "outputs": [
    {
     "name": "stdout",
     "output_type": "stream",
     "text": [
      "Holly-and-hugo ==> 17 Records ==> 0.24 Minutes\n"
     ]
    },
    {
     "name": "stderr",
     "output_type": "stream",
     "text": [
      "/home/faysal/anaconda3/lib/python3.7/site-packages/ipykernel_launcher.py:251: FutureWarning: The default value of regex will change from True to False in a future version. In addition, single character regular expressions will*not* be treated as literal strings when regex=True.\n"
     ]
    }
   ],
   "source": [
    "hollyAndHugo = main(providersUrl[\"hollyAndHugo\"])"
   ]
  },
  {
   "cell_type": "code",
   "execution_count": 18,
   "metadata": {},
   "outputs": [
    {
     "name": "stdout",
     "output_type": "stream",
     "text": [
      "Course-pride ==> 387 Records ==> 2.29 Minutes\n"
     ]
    },
    {
     "name": "stderr",
     "output_type": "stream",
     "text": [
      "/home/faysal/anaconda3/lib/python3.7/site-packages/ipykernel_launcher.py:251: FutureWarning: The default value of regex will change from True to False in a future version. In addition, single character regular expressions will*not* be treated as literal strings when regex=True.\n"
     ]
    }
   ],
   "source": [
    "coursePride = main(providersUrl[\"coursePride\"])"
   ]
  },
  {
   "cell_type": "code",
   "execution_count": 19,
   "metadata": {},
   "outputs": [
    {
     "name": "stdout",
     "output_type": "stream",
     "text": [
      "Active-recruitment-ltd ==> 160 Records ==> 0.88 Minutes\n"
     ]
    },
    {
     "name": "stderr",
     "output_type": "stream",
     "text": [
      "/home/faysal/anaconda3/lib/python3.7/site-packages/ipykernel_launcher.py:251: FutureWarning: The default value of regex will change from True to False in a future version. In addition, single character regular expressions will*not* be treated as literal strings when regex=True.\n"
     ]
    }
   ],
   "source": [
    "activeRecruitment = main(providersUrl[\"activeRecruitment\"])"
   ]
  },
  {
   "cell_type": "code",
   "execution_count": 20,
   "metadata": {},
   "outputs": [
    {
     "name": "stdout",
     "output_type": "stream",
     "text": [
      "E-careerslifestyle ==> 224 Records ==> 1.26 Minutes\n"
     ]
    },
    {
     "name": "stderr",
     "output_type": "stream",
     "text": [
      "/home/faysal/anaconda3/lib/python3.7/site-packages/ipykernel_launcher.py:251: FutureWarning: The default value of regex will change from True to False in a future version. In addition, single character regular expressions will*not* be treated as literal strings when regex=True.\n"
     ]
    }
   ],
   "source": [
    "eCareersLifestyle = main(providersUrl[\"eCareersLifestyle\"])"
   ]
  },
  {
   "cell_type": "code",
   "execution_count": 21,
   "metadata": {},
   "outputs": [
    {
     "name": "stdout",
     "output_type": "stream",
     "text": [
      "Eventtrix ==> 18 Records ==> 0.19 Minutes\n"
     ]
    },
    {
     "name": "stderr",
     "output_type": "stream",
     "text": [
      "/home/faysal/anaconda3/lib/python3.7/site-packages/ipykernel_launcher.py:251: FutureWarning: The default value of regex will change from True to False in a future version. In addition, single character regular expressions will*not* be treated as literal strings when regex=True.\n"
     ]
    }
   ],
   "source": [
    "eventtrix = main(providersUrl[\"eventtrix\"])"
   ]
  },
  {
   "cell_type": "code",
   "execution_count": 22,
   "metadata": {},
   "outputs": [
    {
     "name": "stdout",
     "output_type": "stream",
     "text": [
      "Trendimi ==> 47 Records ==> 0.38 Minutes\n"
     ]
    },
    {
     "name": "stderr",
     "output_type": "stream",
     "text": [
      "/home/faysal/anaconda3/lib/python3.7/site-packages/ipykernel_launcher.py:251: FutureWarning: The default value of regex will change from True to False in a future version. In addition, single character regular expressions will*not* be treated as literal strings when regex=True.\n"
     ]
    }
   ],
   "source": [
    "trendimi = main(providersUrl[\"trendimi\"])"
   ]
  },
  {
   "cell_type": "code",
   "execution_count": 24,
   "metadata": {},
   "outputs": [
    {
     "name": "stdout",
     "output_type": "stream",
     "text": [
      "One-education ==> 2242 Records ==> 13.16 Minutes\n"
     ]
    },
    {
     "name": "stderr",
     "output_type": "stream",
     "text": [
      "/home/faysal/anaconda3/lib/python3.7/site-packages/ipykernel_launcher.py:251: FutureWarning: The default value of regex will change from True to False in a future version. In addition, single character regular expressions will*not* be treated as literal strings when regex=True.\n"
     ]
    }
   ],
   "source": [
    "oneEdu = main(providersUrl[\"oneEdu\"])"
   ]
  },
  {
   "cell_type": "code",
   "execution_count": 25,
   "metadata": {},
   "outputs": [
    {
     "name": "stdout",
     "output_type": "stream",
     "text": [
      "Janets ==> 1480 Records ==> 8.53 Minutes\n"
     ]
    },
    {
     "name": "stderr",
     "output_type": "stream",
     "text": [
      "/home/faysal/anaconda3/lib/python3.7/site-packages/ipykernel_launcher.py:251: FutureWarning: The default value of regex will change from True to False in a future version. In addition, single character regular expressions will*not* be treated as literal strings when regex=True.\n"
     ]
    }
   ],
   "source": [
    "janets = main(providersUrl[\"janets\"])"
   ]
  },
  {
   "cell_type": "code",
   "execution_count": 26,
   "metadata": {},
   "outputs": [
    {
     "name": "stdout",
     "output_type": "stream",
     "text": [
      "Training-express-ltd ==> 592 Records ==> 3.5 Minutes\n"
     ]
    },
    {
     "name": "stderr",
     "output_type": "stream",
     "text": [
      "/home/faysal/anaconda3/lib/python3.7/site-packages/ipykernel_launcher.py:251: FutureWarning: The default value of regex will change from True to False in a future version. In addition, single character regular expressions will*not* be treated as literal strings when regex=True.\n"
     ]
    }
   ],
   "source": [
    "tx = main(providersUrl[\"tx\"])"
   ]
  },
  {
   "cell_type": "code",
   "execution_count": 27,
   "metadata": {},
   "outputs": [
    {
     "name": "stdout",
     "output_type": "stream",
     "text": [
      "Academy-for-health-fitness ==> 898 Records ==> 5.25 Minutes\n"
     ]
    },
    {
     "name": "stderr",
     "output_type": "stream",
     "text": [
      "/home/faysal/anaconda3/lib/python3.7/site-packages/ipykernel_launcher.py:251: FutureWarning: The default value of regex will change from True to False in a future version. In addition, single character regular expressions will*not* be treated as literal strings when regex=True.\n"
     ]
    }
   ],
   "source": [
    "hfOnline = main(providersUrl[\"hfOnline\"])"
   ]
  },
  {
   "cell_type": "code",
   "execution_count": 28,
   "metadata": {},
   "outputs": [
    {
     "name": "stdout",
     "output_type": "stream",
     "text": [
      "Be-acouk ==> 334 Records ==> 1.89 Minutes\n"
     ]
    },
    {
     "name": "stderr",
     "output_type": "stream",
     "text": [
      "/home/faysal/anaconda3/lib/python3.7/site-packages/ipykernel_launcher.py:251: FutureWarning: The default value of regex will change from True to False in a future version. In addition, single character regular expressions will*not* be treated as literal strings when regex=True.\n"
     ]
    }
   ],
   "source": [
    "beaco = main(providersUrl[\"beaco\"])"
   ]
  },
  {
   "cell_type": "code",
   "execution_count": 29,
   "metadata": {},
   "outputs": [
    {
     "name": "stdout",
     "output_type": "stream",
     "text": [
      "Cpd-courses ==> 816 Records ==> 5.19 Minutes\n"
     ]
    },
    {
     "name": "stderr",
     "output_type": "stream",
     "text": [
      "/home/faysal/anaconda3/lib/python3.7/site-packages/ipykernel_launcher.py:251: FutureWarning: The default value of regex will change from True to False in a future version. In addition, single character regular expressions will*not* be treated as literal strings when regex=True.\n"
     ]
    }
   ],
   "source": [
    "cpdCourses = main(providersUrl[\"cpdCourses\"])"
   ]
  },
  {
   "cell_type": "code",
   "execution_count": 30,
   "metadata": {},
   "outputs": [
    {
     "name": "stdout",
     "output_type": "stream",
     "text": [
      "Brentwood-open-learning-college ==> 283 Records ==> 1.79 Minutes\n"
     ]
    },
    {
     "name": "stderr",
     "output_type": "stream",
     "text": [
      "/home/faysal/anaconda3/lib/python3.7/site-packages/ipykernel_launcher.py:251: FutureWarning: The default value of regex will change from True to False in a future version. In addition, single character regular expressions will*not* be treated as literal strings when regex=True.\n"
     ]
    }
   ],
   "source": [
    "brentwood = main(providersUrl[\"brentwood\"])"
   ]
  },
  {
   "cell_type": "code",
   "execution_count": 31,
   "metadata": {},
   "outputs": [
    {
     "name": "stdout",
     "output_type": "stream",
     "text": [
      "Oplex-careers ==> 415 Records ==> 2.25 Minutes\n"
     ]
    },
    {
     "name": "stderr",
     "output_type": "stream",
     "text": [
      "/home/faysal/anaconda3/lib/python3.7/site-packages/ipykernel_launcher.py:251: FutureWarning: The default value of regex will change from True to False in a future version. In addition, single character regular expressions will*not* be treated as literal strings when regex=True.\n"
     ]
    }
   ],
   "source": [
    "oplex = main(providersUrl[\"oplex\"])"
   ]
  },
  {
   "cell_type": "code",
   "execution_count": 32,
   "metadata": {},
   "outputs": [
    {
     "name": "stdout",
     "output_type": "stream",
     "text": [
      "Oxford-home-study-college ==> 249 Records ==> 1.57 Minutes\n"
     ]
    },
    {
     "name": "stderr",
     "output_type": "stream",
     "text": [
      "/home/faysal/anaconda3/lib/python3.7/site-packages/ipykernel_launcher.py:251: FutureWarning: The default value of regex will change from True to False in a future version. In addition, single character regular expressions will*not* be treated as literal strings when regex=True.\n"
     ]
    }
   ],
   "source": [
    "oxford = main(providersUrl[\"oxford\"])"
   ]
  },
  {
   "cell_type": "code",
   "execution_count": 33,
   "metadata": {},
   "outputs": [
    {
     "name": "stdout",
     "output_type": "stream",
     "text": [
      "The-training-terminal ==> 107 Records ==> 0.69 Minutes\n"
     ]
    },
    {
     "name": "stderr",
     "output_type": "stream",
     "text": [
      "/home/faysal/anaconda3/lib/python3.7/site-packages/ipykernel_launcher.py:251: FutureWarning: The default value of regex will change from True to False in a future version. In addition, single character regular expressions will*not* be treated as literal strings when regex=True.\n"
     ]
    }
   ],
   "source": [
    "trainingTerminal = main(providersUrl[\"trainingTerminal\"])"
   ]
  },
  {
   "cell_type": "code",
   "execution_count": 34,
   "metadata": {},
   "outputs": [
    {
     "name": "stdout",
     "output_type": "stream",
     "text": [
      "Excel-with-business ==> 51 Records ==> 0.36 Minutes\n"
     ]
    },
    {
     "name": "stderr",
     "output_type": "stream",
     "text": [
      "/home/faysal/anaconda3/lib/python3.7/site-packages/ipykernel_launcher.py:251: FutureWarning: The default value of regex will change from True to False in a future version. In addition, single character regular expressions will*not* be treated as literal strings when regex=True.\n"
     ]
    }
   ],
   "source": [
    "excelWithBusiness = main(providersUrl[\"excelWithBusiness\"])"
   ]
  },
  {
   "cell_type": "code",
   "execution_count": 35,
   "metadata": {},
   "outputs": [
    {
     "name": "stdout",
     "output_type": "stream",
     "text": [
      "Ofcourse ==> 617 Records ==> 3.07 Minutes\n"
     ]
    },
    {
     "name": "stderr",
     "output_type": "stream",
     "text": [
      "/home/faysal/anaconda3/lib/python3.7/site-packages/ipykernel_launcher.py:251: FutureWarning: The default value of regex will change from True to False in a future version. In addition, single character regular expressions will*not* be treated as literal strings when regex=True.\n"
     ]
    }
   ],
   "source": [
    "ofCourse = main(providersUrl[\"ofCourse\"])"
   ]
  },
  {
   "cell_type": "code",
   "execution_count": 36,
   "metadata": {},
   "outputs": [
    {
     "name": "stdout",
     "output_type": "stream",
     "text": [
      "Centre-of-excellence-online ==> 427 Records ==> 2.28 Minutes\n"
     ]
    },
    {
     "name": "stderr",
     "output_type": "stream",
     "text": [
      "/home/faysal/anaconda3/lib/python3.7/site-packages/ipykernel_launcher.py:251: FutureWarning: The default value of regex will change from True to False in a future version. In addition, single character regular expressions will*not* be treated as literal strings when regex=True.\n"
     ]
    }
   ],
   "source": [
    "centreOfExcellence = main(providersUrl[\"centreOfExcellence\"])"
   ]
  },
  {
   "cell_type": "code",
   "execution_count": 37,
   "metadata": {},
   "outputs": [
    {
     "name": "stdout",
     "output_type": "stream",
     "text": [
      "Lead-academy ==> 2048 Records ==> 11.51 Minutes\n"
     ]
    },
    {
     "name": "stderr",
     "output_type": "stream",
     "text": [
      "/home/faysal/anaconda3/lib/python3.7/site-packages/ipykernel_launcher.py:251: FutureWarning: The default value of regex will change from True to False in a future version. In addition, single character regular expressions will*not* be treated as literal strings when regex=True.\n"
     ]
    }
   ],
   "source": [
    "leadAcademy = main(providersUrl[\"leadAcademy\"])"
   ]
  },
  {
   "cell_type": "code",
   "execution_count": 38,
   "metadata": {},
   "outputs": [
    {
     "name": "stdout",
     "output_type": "stream",
     "text": [
      "Beke-college-cic ==> 40 Records ==> 0.27 Minutes\n"
     ]
    },
    {
     "name": "stderr",
     "output_type": "stream",
     "text": [
      "/home/faysal/anaconda3/lib/python3.7/site-packages/ipykernel_launcher.py:251: FutureWarning: The default value of regex will change from True to False in a future version. In addition, single character regular expressions will*not* be treated as literal strings when regex=True.\n"
     ]
    }
   ],
   "source": [
    "bekeCollege = main(providersUrl[\"bekeCollege\"])"
   ]
  },
  {
   "cell_type": "code",
   "execution_count": 39,
   "metadata": {},
   "outputs": [
    {
     "name": "stdout",
     "output_type": "stream",
     "text": [
      "Protrainings-europe-limited ==> 116 Records ==> 0.74 Minutes\n"
     ]
    },
    {
     "name": "stderr",
     "output_type": "stream",
     "text": [
      "/home/faysal/anaconda3/lib/python3.7/site-packages/ipykernel_launcher.py:251: FutureWarning: The default value of regex will change from True to False in a future version. In addition, single character regular expressions will*not* be treated as literal strings when regex=True.\n"
     ]
    }
   ],
   "source": [
    "protrainings = main(providersUrl[\"protrainings\"])"
   ]
  },
  {
   "cell_type": "code",
   "execution_count": 40,
   "metadata": {},
   "outputs": [
    {
     "name": "stdout",
     "output_type": "stream",
     "text": [
      "Mandatory-compliance ==> 326 Records ==> 1.94 Minutes\n"
     ]
    },
    {
     "name": "stderr",
     "output_type": "stream",
     "text": [
      "/home/faysal/anaconda3/lib/python3.7/site-packages/ipykernel_launcher.py:251: FutureWarning: The default value of regex will change from True to False in a future version. In addition, single character regular expressions will*not* be treated as literal strings when regex=True.\n"
     ]
    }
   ],
   "source": [
    "mandatoryCompliance = main(providersUrl[\"mandatoryCompliance\"])"
   ]
  },
  {
   "cell_type": "code",
   "execution_count": 41,
   "metadata": {},
   "outputs": [
    {
     "name": "stdout",
     "output_type": "stream",
     "text": [
      "International-open-academy ==> 157 Records ==> 1.02 Minutes\n"
     ]
    },
    {
     "name": "stderr",
     "output_type": "stream",
     "text": [
      "/home/faysal/anaconda3/lib/python3.7/site-packages/ipykernel_launcher.py:251: FutureWarning: The default value of regex will change from True to False in a future version. In addition, single character regular expressions will*not* be treated as literal strings when regex=True.\n"
     ]
    }
   ],
   "source": [
    "intOpenAcademy = main(providersUrl[\"intOpenAcademy\"])"
   ]
  },
  {
   "cell_type": "code",
   "execution_count": 42,
   "metadata": {},
   "outputs": [
    {
     "name": "stdout",
     "output_type": "stream",
     "text": [
      "Skill-up ==> 506 Records ==> 2.95 Minutes\n"
     ]
    },
    {
     "name": "stderr",
     "output_type": "stream",
     "text": [
      "/home/faysal/anaconda3/lib/python3.7/site-packages/ipykernel_launcher.py:251: FutureWarning: The default value of regex will change from True to False in a future version. In addition, single character regular expressions will*not* be treated as literal strings when regex=True.\n"
     ]
    }
   ],
   "source": [
    "skillUp = main(providersUrl[\"skillUp\"])"
   ]
  },
  {
   "cell_type": "code",
   "execution_count": 43,
   "metadata": {},
   "outputs": [
    {
     "name": "stdout",
     "output_type": "stream",
     "text": [
      "Simply-cert ==> 226 Records ==> 1.24 Minutes\n"
     ]
    },
    {
     "name": "stderr",
     "output_type": "stream",
     "text": [
      "/home/faysal/anaconda3/lib/python3.7/site-packages/ipykernel_launcher.py:251: FutureWarning: The default value of regex will change from True to False in a future version. In addition, single character regular expressions will*not* be treated as literal strings when regex=True.\n"
     ]
    }
   ],
   "source": [
    "simplyCert = main(providersUrl[\"simplyCert\"])"
   ]
  },
  {
   "cell_type": "code",
   "execution_count": 44,
   "metadata": {},
   "outputs": [
    {
     "name": "stdout",
     "output_type": "stream",
     "text": [
      "Course-cloud ==> 1202 Records ==> 6.95 Minutes\n"
     ]
    },
    {
     "name": "stderr",
     "output_type": "stream",
     "text": [
      "/home/faysal/anaconda3/lib/python3.7/site-packages/ipykernel_launcher.py:251: FutureWarning: The default value of regex will change from True to False in a future version. In addition, single character regular expressions will*not* be treated as literal strings when regex=True.\n"
     ]
    }
   ],
   "source": [
    "courseCloud = main(providersUrl[\"courseCloud\"])"
   ]
  },
  {
   "cell_type": "code",
   "execution_count": 45,
   "metadata": {},
   "outputs": [
    {
     "name": "stdout",
     "output_type": "stream",
     "text": [
      "The-teachers-training ==> 417 Records ==> 2.49 Minutes\n"
     ]
    },
    {
     "name": "stderr",
     "output_type": "stream",
     "text": [
      "/home/faysal/anaconda3/lib/python3.7/site-packages/ipykernel_launcher.py:251: FutureWarning: The default value of regex will change from True to False in a future version. In addition, single character regular expressions will*not* be treated as literal strings when regex=True.\n"
     ]
    }
   ],
   "source": [
    "teachersTraining = main(providersUrl[\"teachersTraining\"])"
   ]
  },
  {
   "cell_type": "code",
   "execution_count": 46,
   "metadata": {},
   "outputs": [
    {
     "name": "stdout",
     "output_type": "stream",
     "text": [
      "1-training ==> 760 Records ==> 4.44 Minutes\n"
     ]
    },
    {
     "name": "stderr",
     "output_type": "stream",
     "text": [
      "/home/faysal/anaconda3/lib/python3.7/site-packages/ipykernel_launcher.py:251: FutureWarning: The default value of regex will change from True to False in a future version. In addition, single character regular expressions will*not* be treated as literal strings when regex=True.\n"
     ]
    }
   ],
   "source": [
    "oneTraining = main(providersUrl[\"1training\"])"
   ]
  },
  {
   "cell_type": "code",
   "execution_count": 47,
   "metadata": {},
   "outputs": [
    {
     "name": "stdout",
     "output_type": "stream",
     "text": [
      "Institute-of-beauty-and-makeup ==> 168 Records ==> 1.04 Minutes\n"
     ]
    },
    {
     "name": "stderr",
     "output_type": "stream",
     "text": [
      "/home/faysal/anaconda3/lib/python3.7/site-packages/ipykernel_launcher.py:251: FutureWarning: The default value of regex will change from True to False in a future version. In addition, single character regular expressions will*not* be treated as literal strings when regex=True.\n"
     ]
    }
   ],
   "source": [
    "instituteOfBeauty = main(providersUrl[\"instituteOfBeauty\"])"
   ]
  },
  {
   "cell_type": "code",
   "execution_count": 48,
   "metadata": {},
   "outputs": [
    {
     "name": "stdout",
     "output_type": "stream",
     "text": [
      "The-animal-care ==> 116 Records ==> 0.76 Minutes\n"
     ]
    },
    {
     "name": "stderr",
     "output_type": "stream",
     "text": [
      "/home/faysal/anaconda3/lib/python3.7/site-packages/ipykernel_launcher.py:251: FutureWarning: The default value of regex will change from True to False in a future version. In addition, single character regular expressions will*not* be treated as literal strings when regex=True.\n"
     ]
    }
   ],
   "source": [
    "animalCare = main(providersUrl[\"animalCare\"])"
   ]
  },
  {
   "cell_type": "code",
   "execution_count": 49,
   "metadata": {},
   "outputs": [
    {
     "name": "stdout",
     "output_type": "stream",
     "text": [
      "Skill-express ==> 302 Records ==> 1.82 Minutes\n"
     ]
    },
    {
     "name": "stderr",
     "output_type": "stream",
     "text": [
      "/home/faysal/anaconda3/lib/python3.7/site-packages/ipykernel_launcher.py:251: FutureWarning: The default value of regex will change from True to False in a future version. In addition, single character regular expressions will*not* be treated as literal strings when regex=True.\n"
     ]
    }
   ],
   "source": [
    "skillExpress = main(providersUrl[\"skillExpress\"])"
   ]
  },
  {
   "cell_type": "code",
   "execution_count": 50,
   "metadata": {},
   "outputs": [
    {
     "name": "stdout",
     "output_type": "stream",
     "text": [
      "Compliance-central ==> 313 Records ==> 1.92 Minutes\n"
     ]
    },
    {
     "name": "stderr",
     "output_type": "stream",
     "text": [
      "/home/faysal/anaconda3/lib/python3.7/site-packages/ipykernel_launcher.py:251: FutureWarning: The default value of regex will change from True to False in a future version. In addition, single character regular expressions will*not* be treated as literal strings when regex=True.\n"
     ]
    }
   ],
   "source": [
    "complianceCentral = main(providersUrl[\"complianceCentral\"])"
   ]
  },
  {
   "cell_type": "code",
   "execution_count": 51,
   "metadata": {},
   "outputs": [
    {
     "name": "stdout",
     "output_type": "stream",
     "text": [
      "Apex-learning ==> 500 Records ==> 2.99 Minutes\n"
     ]
    },
    {
     "name": "stderr",
     "output_type": "stream",
     "text": [
      "/home/faysal/anaconda3/lib/python3.7/site-packages/ipykernel_launcher.py:251: FutureWarning: The default value of regex will change from True to False in a future version. In addition, single character regular expressions will*not* be treated as literal strings when regex=True.\n"
     ]
    }
   ],
   "source": [
    "apexLearning = main(providersUrl[\"apexLearning\"])"
   ]
  },
  {
   "cell_type": "code",
   "execution_count": 52,
   "metadata": {},
   "outputs": [
    {
     "name": "stdout",
     "output_type": "stream",
     "text": [
      "Studyhub ==> 501 Records ==> 2.94 Minutes\n"
     ]
    },
    {
     "name": "stderr",
     "output_type": "stream",
     "text": [
      "/home/faysal/anaconda3/lib/python3.7/site-packages/ipykernel_launcher.py:251: FutureWarning: The default value of regex will change from True to False in a future version. In addition, single character regular expressions will*not* be treated as literal strings when regex=True.\n"
     ]
    }
   ],
   "source": [
    "studyHub = main(providersUrl[\"studyHub\"])"
   ]
  },
  {
   "cell_type": "code",
   "execution_count": 53,
   "metadata": {},
   "outputs": [
    {
     "name": "stdout",
     "output_type": "stream",
     "text": [
      "Next-level-academy ==> 616 Records ==> 3.52 Minutes\n"
     ]
    },
    {
     "name": "stderr",
     "output_type": "stream",
     "text": [
      "/home/faysal/anaconda3/lib/python3.7/site-packages/ipykernel_launcher.py:251: FutureWarning: The default value of regex will change from True to False in a future version. In addition, single character regular expressions will*not* be treated as literal strings when regex=True.\n"
     ]
    }
   ],
   "source": [
    "nextLearn = main(providersUrl[\"nextLearn\"])"
   ]
  },
  {
   "cell_type": "code",
   "execution_count": 56,
   "metadata": {},
   "outputs": [],
   "source": [
    "# Concat all the providers data\n",
    "masterDf = pd.concat([\n",
    "    oneEdu,\n",
    "    janets,\n",
    "    tx,\n",
    "    hfOnline,\n",
    "    beaco, \n",
    "    cpdCourses,\n",
    "    brentwood,\n",
    "    oplex, \n",
    "    oxford,\n",
    "    trainingTerminal,\n",
    "    excelWithBusiness,\n",
    "    ofCourse,\n",
    "    trendimi,\n",
    "    centreOfExcellence,\n",
    "    leadAcademy,\n",
    "    bekeCollege,\n",
    "    protrainings,\n",
    "    mandatoryCompliance,\n",
    "    intOpenAcademy,\n",
    "    skillUp,\n",
    "    simplyCert,\n",
    "    courseCloud,\n",
    "    teachersTraining,\n",
    "    oneTraining,\n",
    "    instituteOfBeauty,\n",
    "    animalCare, \n",
    "    skillExpress,\n",
    "    complianceCentral,\n",
    "    skillSuccess,\n",
    "    globalEdulink,\n",
    "    ukProfessionalDev,\n",
    "    study365,\n",
    "    staffTrainingSolution,\n",
    "    inspireLondonCollege,\n",
    "    simplivllc,\n",
    "    echo3Education,\n",
    "    lifeSavingTraining,\n",
    "    southLondonCollege,\n",
    "    knowledgeDoor,\n",
    "    hollyAndHugo,\n",
    "    coursePride,\n",
    "    activeRecruitment,\n",
    "    eCareersLifestyle,\n",
    "    eventtrix,\n",
    "    apexLearning,\n",
    "    studyHub,\n",
    "    nextLearn\n",
    "    \n",
    "]).reset_index(drop=True)"
   ]
  },
  {
   "cell_type": "code",
   "execution_count": 58,
   "metadata": {},
   "outputs": [
    {
     "data": {
      "text/html": [
       "<div>\n",
       "<style scoped>\n",
       "    .dataframe tbody tr th:only-of-type {\n",
       "        vertical-align: middle;\n",
       "    }\n",
       "\n",
       "    .dataframe tbody tr th {\n",
       "        vertical-align: top;\n",
       "    }\n",
       "\n",
       "    .dataframe thead th {\n",
       "        text-align: right;\n",
       "    }\n",
       "</style>\n",
       "<table border=\"1\" class=\"dataframe\">\n",
       "  <thead>\n",
       "    <tr style=\"text-align: right;\">\n",
       "      <th></th>\n",
       "      <th>count</th>\n",
       "    </tr>\n",
       "    <tr>\n",
       "      <th>courseProvider</th>\n",
       "      <th></th>\n",
       "    </tr>\n",
       "  </thead>\n",
       "  <tbody>\n",
       "    <tr>\n",
       "      <th>Simpliv LLC</th>\n",
       "      <td>4437</td>\n",
       "    </tr>\n",
       "    <tr>\n",
       "      <th>Knowledge Door</th>\n",
       "      <td>2336</td>\n",
       "    </tr>\n",
       "    <tr>\n",
       "      <th>Skill Success</th>\n",
       "      <td>2290</td>\n",
       "    </tr>\n",
       "    <tr>\n",
       "      <th>One Education</th>\n",
       "      <td>2242</td>\n",
       "    </tr>\n",
       "    <tr>\n",
       "      <th>Lead Academy</th>\n",
       "      <td>2048</td>\n",
       "    </tr>\n",
       "    <tr>\n",
       "      <th>Janets</th>\n",
       "      <td>1480</td>\n",
       "    </tr>\n",
       "    <tr>\n",
       "      <th>Course Cloud</th>\n",
       "      <td>1202</td>\n",
       "    </tr>\n",
       "    <tr>\n",
       "      <th>Study365</th>\n",
       "      <td>1108</td>\n",
       "    </tr>\n",
       "    <tr>\n",
       "      <th>Global Edulink</th>\n",
       "      <td>955</td>\n",
       "    </tr>\n",
       "    <tr>\n",
       "      <th>Academy for Health &amp; Fitness</th>\n",
       "      <td>898</td>\n",
       "    </tr>\n",
       "    <tr>\n",
       "      <th>CPD Courses</th>\n",
       "      <td>816</td>\n",
       "    </tr>\n",
       "    <tr>\n",
       "      <th>1 Training</th>\n",
       "      <td>760</td>\n",
       "    </tr>\n",
       "    <tr>\n",
       "      <th>UK Professional Development Academy LTD</th>\n",
       "      <td>646</td>\n",
       "    </tr>\n",
       "    <tr>\n",
       "      <th>OfCourse</th>\n",
       "      <td>617</td>\n",
       "    </tr>\n",
       "    <tr>\n",
       "      <th>Next Learn Academy</th>\n",
       "      <td>616</td>\n",
       "    </tr>\n",
       "    <tr>\n",
       "      <th>Training Express Ltd</th>\n",
       "      <td>592</td>\n",
       "    </tr>\n",
       "    <tr>\n",
       "      <th>Skill Up</th>\n",
       "      <td>506</td>\n",
       "    </tr>\n",
       "    <tr>\n",
       "      <th>StudyHub</th>\n",
       "      <td>501</td>\n",
       "    </tr>\n",
       "    <tr>\n",
       "      <th>Apex Learning</th>\n",
       "      <td>500</td>\n",
       "    </tr>\n",
       "    <tr>\n",
       "      <th>Centre of Excellence</th>\n",
       "      <td>427</td>\n",
       "    </tr>\n",
       "    <tr>\n",
       "      <th>The Teachers Training</th>\n",
       "      <td>417</td>\n",
       "    </tr>\n",
       "    <tr>\n",
       "      <th>Oplex Careers</th>\n",
       "      <td>415</td>\n",
       "    </tr>\n",
       "    <tr>\n",
       "      <th>Course Pride</th>\n",
       "      <td>387</td>\n",
       "    </tr>\n",
       "    <tr>\n",
       "      <th>Be-a.co.uk</th>\n",
       "      <td>334</td>\n",
       "    </tr>\n",
       "    <tr>\n",
       "      <th>Mandatory Compliance</th>\n",
       "      <td>326</td>\n",
       "    </tr>\n",
       "    <tr>\n",
       "      <th>Compliance Central</th>\n",
       "      <td>313</td>\n",
       "    </tr>\n",
       "    <tr>\n",
       "      <th>Skill Express</th>\n",
       "      <td>302</td>\n",
       "    </tr>\n",
       "    <tr>\n",
       "      <th>South London College</th>\n",
       "      <td>299</td>\n",
       "    </tr>\n",
       "    <tr>\n",
       "      <th>Brentwood Open learning College</th>\n",
       "      <td>283</td>\n",
       "    </tr>\n",
       "    <tr>\n",
       "      <th>Staff Training Solutions</th>\n",
       "      <td>264</td>\n",
       "    </tr>\n",
       "    <tr>\n",
       "      <th>Oxford Home Study College</th>\n",
       "      <td>249</td>\n",
       "    </tr>\n",
       "    <tr>\n",
       "      <th>Simply Cert</th>\n",
       "      <td>226</td>\n",
       "    </tr>\n",
       "    <tr>\n",
       "      <th>e-Careers.Lifestyle</th>\n",
       "      <td>224</td>\n",
       "    </tr>\n",
       "    <tr>\n",
       "      <th>Inspire London College Ltd</th>\n",
       "      <td>208</td>\n",
       "    </tr>\n",
       "    <tr>\n",
       "      <th>Institute of Beauty and Makeup</th>\n",
       "      <td>168</td>\n",
       "    </tr>\n",
       "    <tr>\n",
       "      <th>Active Recruitment Ltd</th>\n",
       "      <td>160</td>\n",
       "    </tr>\n",
       "    <tr>\n",
       "      <th>International Open Academy</th>\n",
       "      <td>157</td>\n",
       "    </tr>\n",
       "    <tr>\n",
       "      <th>ProTrainings Europe Limited</th>\n",
       "      <td>116</td>\n",
       "    </tr>\n",
       "    <tr>\n",
       "      <th>The Animal Care</th>\n",
       "      <td>116</td>\n",
       "    </tr>\n",
       "    <tr>\n",
       "      <th>The Training Terminal</th>\n",
       "      <td>107</td>\n",
       "    </tr>\n",
       "    <tr>\n",
       "      <th>ECHO3 EDUCATION LIMITED</th>\n",
       "      <td>75</td>\n",
       "    </tr>\n",
       "    <tr>\n",
       "      <th>Excel with Business</th>\n",
       "      <td>51</td>\n",
       "    </tr>\n",
       "    <tr>\n",
       "      <th>Trendimi</th>\n",
       "      <td>47</td>\n",
       "    </tr>\n",
       "    <tr>\n",
       "      <th>BEKE College C.I.C.</th>\n",
       "      <td>40</td>\n",
       "    </tr>\n",
       "    <tr>\n",
       "      <th>Life Saving Training Ltd</th>\n",
       "      <td>34</td>\n",
       "    </tr>\n",
       "    <tr>\n",
       "      <th>Eventtrix</th>\n",
       "      <td>18</td>\n",
       "    </tr>\n",
       "    <tr>\n",
       "      <th>Holly and Hugo</th>\n",
       "      <td>17</td>\n",
       "    </tr>\n",
       "  </tbody>\n",
       "</table>\n",
       "</div>"
      ],
      "text/plain": [
       "                                         count\n",
       "courseProvider                                \n",
       "Simpliv LLC                               4437\n",
       "Knowledge Door                            2336\n",
       "Skill Success                             2290\n",
       "One Education                             2242\n",
       "Lead Academy                              2048\n",
       "Janets                                    1480\n",
       "Course Cloud                              1202\n",
       "Study365                                  1108\n",
       "Global Edulink                             955\n",
       "Academy for Health & Fitness               898\n",
       "CPD Courses                                816\n",
       "1 Training                                 760\n",
       "UK Professional Development Academy LTD    646\n",
       "OfCourse                                   617\n",
       "Next Learn Academy                         616\n",
       "Training Express Ltd                       592\n",
       "Skill Up                                   506\n",
       "StudyHub                                   501\n",
       "Apex Learning                              500\n",
       "Centre of Excellence                       427\n",
       "The Teachers Training                      417\n",
       "Oplex Careers                              415\n",
       "Course Pride                               387\n",
       "Be-a.co.uk                                 334\n",
       "Mandatory Compliance                       326\n",
       "Compliance Central                         313\n",
       "Skill Express                              302\n",
       "South London College                       299\n",
       "Brentwood Open learning College            283\n",
       "Staff Training Solutions                   264\n",
       "Oxford Home Study College                  249\n",
       "Simply Cert                                226\n",
       "e-Careers.Lifestyle                        224\n",
       "Inspire London College Ltd                 208\n",
       "Institute of Beauty and Makeup             168\n",
       "Active Recruitment Ltd                     160\n",
       "International Open Academy                 157\n",
       "ProTrainings Europe Limited                116\n",
       "The Animal Care                            116\n",
       "The Training Terminal                      107\n",
       "ECHO3 EDUCATION LIMITED                     75\n",
       "Excel with Business                         51\n",
       "Trendimi                                    47\n",
       "BEKE College C.I.C.                         40\n",
       "Life Saving Training Ltd                    34\n",
       "Eventtrix                                   18\n",
       "Holly and Hugo                              17"
      ]
     },
     "execution_count": 58,
     "metadata": {},
     "output_type": "execute_result"
    }
   ],
   "source": [
    "# Providers with their courses\n",
    "masterDf.groupby(\"courseProvider\").courseTitle.agg([\"count\"]).sort_values(\"count\", ascending=False)"
   ]
  },
  {
   "cell_type": "code",
   "execution_count": 59,
   "metadata": {},
   "outputs": [
    {
     "data": {
      "text/plain": [
       "(47, 30330)"
      ]
     },
     "execution_count": 59,
     "metadata": {},
     "output_type": "execute_result"
    }
   ],
   "source": [
    "# Unique providers and total records\n",
    "masterDf.courseProvider.nunique(), masterDf.shape[0]"
   ]
  },
  {
   "cell_type": "code",
   "execution_count": 60,
   "metadata": {},
   "outputs": [
    {
     "data": {
      "text/html": [
       "<div>\n",
       "<style scoped>\n",
       "    .dataframe tbody tr th:only-of-type {\n",
       "        vertical-align: middle;\n",
       "    }\n",
       "\n",
       "    .dataframe tbody tr th {\n",
       "        vertical-align: top;\n",
       "    }\n",
       "\n",
       "    .dataframe thead th {\n",
       "        text-align: right;\n",
       "    }\n",
       "</style>\n",
       "<table border=\"1\" class=\"dataframe\">\n",
       "  <thead>\n",
       "    <tr style=\"text-align: right;\">\n",
       "      <th></th>\n",
       "      <th>date</th>\n",
       "      <th>courseId</th>\n",
       "      <th>courseTitle</th>\n",
       "      <th>courseLink</th>\n",
       "      <th>subtitle</th>\n",
       "      <th>courseProvider</th>\n",
       "      <th>offerPrice</th>\n",
       "      <th>originalPrice</th>\n",
       "      <th>unitSold</th>\n",
       "      <th>category</th>\n",
       "      <th>...</th>\n",
       "      <th>awardingBody</th>\n",
       "      <th>qualName</th>\n",
       "      <th>isRegulated</th>\n",
       "      <th>hasProfCert</th>\n",
       "      <th>soldOrEnq</th>\n",
       "      <th>savingsPercent</th>\n",
       "      <th>broadCategory1</th>\n",
       "      <th>broadCategory2</th>\n",
       "      <th>subCategory1</th>\n",
       "      <th>subCategory2</th>\n",
       "    </tr>\n",
       "  </thead>\n",
       "  <tbody>\n",
       "    <tr>\n",
       "      <th>0</th>\n",
       "      <td>16_Apr_21</td>\n",
       "      <td>234929</td>\n",
       "      <td>Car Mechanic Training</td>\n",
       "      <td>https://www.reed.co.uk/courses/car-mechanic-tr...</td>\n",
       "      <td>Spring Shopping Spree!! | Accredited by IAO &amp; ...</td>\n",
       "      <td>One Education</td>\n",
       "      <td>10</td>\n",
       "      <td>425</td>\n",
       "      <td>4535</td>\n",
       "      <td>[[Driving, Car maintenance], [Driving, Mechani...</td>\n",
       "      <td>...</td>\n",
       "      <td>na</td>\n",
       "      <td>na</td>\n",
       "      <td>0</td>\n",
       "      <td>0</td>\n",
       "      <td>1</td>\n",
       "      <td>97</td>\n",
       "      <td>Driving</td>\n",
       "      <td>Engineering</td>\n",
       "      <td>Car maintenance</td>\n",
       "      <td>Mechanical engineering</td>\n",
       "    </tr>\n",
       "    <tr>\n",
       "      <th>1</th>\n",
       "      <td>16_Apr_21</td>\n",
       "      <td>282714</td>\n",
       "      <td>Mental Health</td>\n",
       "      <td>https://www.reed.co.uk/courses/mental-health/2...</td>\n",
       "      <td>Level 5 Endorsed Mental Health Awareness Diplo...</td>\n",
       "      <td>One Education</td>\n",
       "      <td>10</td>\n",
       "      <td>425</td>\n",
       "      <td>445</td>\n",
       "      <td>[[Law, Mental health law], [Health &amp; care, Soc...</td>\n",
       "      <td>...</td>\n",
       "      <td>The Quality Licence Scheme</td>\n",
       "      <td>na</td>\n",
       "      <td>0</td>\n",
       "      <td>0</td>\n",
       "      <td>1</td>\n",
       "      <td>97</td>\n",
       "      <td>Law</td>\n",
       "      <td>Health &amp; care</td>\n",
       "      <td>Mental health law</td>\n",
       "      <td>Mental health nursing</td>\n",
       "    </tr>\n",
       "    <tr>\n",
       "      <th>2</th>\n",
       "      <td>16_Apr_21</td>\n",
       "      <td>233614</td>\n",
       "      <td>Estate Agent Diploma</td>\n",
       "      <td>https://www.reed.co.uk/courses/estate-agent-di...</td>\n",
       "      <td>Spring Shopping Spree !! | Level 5 Endorsed Di...</td>\n",
       "      <td>One Education</td>\n",
       "      <td>18</td>\n",
       "      <td>425</td>\n",
       "      <td>2569</td>\n",
       "      <td>[[Sales], [Construction, Estate agent], [Surve...</td>\n",
       "      <td>...</td>\n",
       "      <td>The Quality Licence Scheme</td>\n",
       "      <td>na</td>\n",
       "      <td>0</td>\n",
       "      <td>0</td>\n",
       "      <td>1</td>\n",
       "      <td>95</td>\n",
       "      <td>Sales</td>\n",
       "      <td>Surveying</td>\n",
       "      <td>Sales</td>\n",
       "      <td>Estate agent</td>\n",
       "    </tr>\n",
       "    <tr>\n",
       "      <th>3</th>\n",
       "      <td>16_Apr_21</td>\n",
       "      <td>239173</td>\n",
       "      <td>HR (Human Resources) and Payroll Administrator</td>\n",
       "      <td>https://www.reed.co.uk/courses/hr-human-resour...</td>\n",
       "      <td>Spring Shopping Spree !! | Level 7 Endorsed Ad...</td>\n",
       "      <td>One Education</td>\n",
       "      <td>10</td>\n",
       "      <td>425</td>\n",
       "      <td>2792</td>\n",
       "      <td>[[Accounting and finance, Payroll], [HR, Manag...</td>\n",
       "      <td>...</td>\n",
       "      <td>The Quality Licence Scheme</td>\n",
       "      <td>na</td>\n",
       "      <td>0</td>\n",
       "      <td>0</td>\n",
       "      <td>1</td>\n",
       "      <td>97</td>\n",
       "      <td>Accounting and finance</td>\n",
       "      <td>HR</td>\n",
       "      <td>Payroll</td>\n",
       "      <td>HR Management</td>\n",
       "    </tr>\n",
       "    <tr>\n",
       "      <th>4</th>\n",
       "      <td>16_Apr_21</td>\n",
       "      <td>239198</td>\n",
       "      <td>Property Development</td>\n",
       "      <td>https://www.reed.co.uk/courses/property-develo...</td>\n",
       "      <td>Level 5 Endorsed Diploma | 150 CPD Points | Ad...</td>\n",
       "      <td>One Education</td>\n",
       "      <td>10</td>\n",
       "      <td>425</td>\n",
       "      <td>485</td>\n",
       "      <td>[[Surveying, Estate management], [Surveying, P...</td>\n",
       "      <td>...</td>\n",
       "      <td>The Quality Licence Scheme</td>\n",
       "      <td>na</td>\n",
       "      <td>0</td>\n",
       "      <td>0</td>\n",
       "      <td>1</td>\n",
       "      <td>97</td>\n",
       "      <td>Surveying</td>\n",
       "      <td>Surveying</td>\n",
       "      <td>Estate management</td>\n",
       "      <td>Property development</td>\n",
       "    </tr>\n",
       "  </tbody>\n",
       "</table>\n",
       "<p>5 rows × 23 columns</p>\n",
       "</div>"
      ],
      "text/plain": [
       "        date courseId                                     courseTitle  \\\n",
       "0  16_Apr_21   234929                           Car Mechanic Training   \n",
       "1  16_Apr_21   282714                                   Mental Health   \n",
       "2  16_Apr_21   233614                            Estate Agent Diploma   \n",
       "3  16_Apr_21   239173  HR (Human Resources) and Payroll Administrator   \n",
       "4  16_Apr_21   239198                            Property Development   \n",
       "\n",
       "                                          courseLink  \\\n",
       "0  https://www.reed.co.uk/courses/car-mechanic-tr...   \n",
       "1  https://www.reed.co.uk/courses/mental-health/2...   \n",
       "2  https://www.reed.co.uk/courses/estate-agent-di...   \n",
       "3  https://www.reed.co.uk/courses/hr-human-resour...   \n",
       "4  https://www.reed.co.uk/courses/property-develo...   \n",
       "\n",
       "                                            subtitle courseProvider  \\\n",
       "0  Spring Shopping Spree!! | Accredited by IAO & ...  One Education   \n",
       "1  Level 5 Endorsed Mental Health Awareness Diplo...  One Education   \n",
       "2  Spring Shopping Spree !! | Level 5 Endorsed Di...  One Education   \n",
       "3  Spring Shopping Spree !! | Level 7 Endorsed Ad...  One Education   \n",
       "4  Level 5 Endorsed Diploma | 150 CPD Points | Ad...  One Education   \n",
       "\n",
       "  offerPrice originalPrice  unitSold  \\\n",
       "0         10           425      4535   \n",
       "1         10           425       445   \n",
       "2         18           425      2569   \n",
       "3         10           425      2792   \n",
       "4         10           425       485   \n",
       "\n",
       "                                            category  ...  \\\n",
       "0  [[Driving, Car maintenance], [Driving, Mechani...  ...   \n",
       "1  [[Law, Mental health law], [Health & care, Soc...  ...   \n",
       "2  [[Sales], [Construction, Estate agent], [Surve...  ...   \n",
       "3  [[Accounting and finance, Payroll], [HR, Manag...  ...   \n",
       "4  [[Surveying, Estate management], [Surveying, P...  ...   \n",
       "\n",
       "                 awardingBody  qualName isRegulated hasProfCert soldOrEnq  \\\n",
       "0                          na        na           0           0         1   \n",
       "1  The Quality Licence Scheme        na           0           0         1   \n",
       "2  The Quality Licence Scheme        na           0           0         1   \n",
       "3  The Quality Licence Scheme        na           0           0         1   \n",
       "4  The Quality Licence Scheme        na           0           0         1   \n",
       "\n",
       "  savingsPercent          broadCategory1  broadCategory2       subCategory1  \\\n",
       "0             97                 Driving     Engineering    Car maintenance   \n",
       "1             97                     Law   Health & care  Mental health law   \n",
       "2             95                   Sales       Surveying              Sales   \n",
       "3             97  Accounting and finance              HR            Payroll   \n",
       "4             97               Surveying       Surveying  Estate management   \n",
       "\n",
       "             subCategory2  \n",
       "0  Mechanical engineering  \n",
       "1   Mental health nursing  \n",
       "2            Estate agent  \n",
       "3           HR Management  \n",
       "4    Property development  \n",
       "\n",
       "[5 rows x 23 columns]"
      ]
     },
     "execution_count": 60,
     "metadata": {},
     "output_type": "execute_result"
    }
   ],
   "source": [
    "# Preview the data\n",
    "masterDf.head()"
   ]
  },
  {
   "cell_type": "code",
   "execution_count": 61,
   "metadata": {},
   "outputs": [],
   "source": [
    "# Save as csv\n",
    "masterDf.to_csv(f\"/home/faysal/Desktop/masterData/15Competitor/{today}_15_providers.csv\", index=None)"
   ]
  },
  {
   "cell_type": "code",
   "execution_count": 62,
   "metadata": {},
   "outputs": [],
   "source": [
    "# Read the data\n",
    "df = pd.read_csv(f\"/home/faysal/Desktop/masterData/15Competitor/{today}_15_providers.csv\")"
   ]
  },
  {
   "cell_type": "code",
   "execution_count": 64,
   "metadata": {},
   "outputs": [
    {
     "data": {
      "text/html": [
       "<div>\n",
       "<style scoped>\n",
       "    .dataframe tbody tr th:only-of-type {\n",
       "        vertical-align: middle;\n",
       "    }\n",
       "\n",
       "    .dataframe tbody tr th {\n",
       "        vertical-align: top;\n",
       "    }\n",
       "\n",
       "    .dataframe thead th {\n",
       "        text-align: right;\n",
       "    }\n",
       "</style>\n",
       "<table border=\"1\" class=\"dataframe\">\n",
       "  <thead>\n",
       "    <tr style=\"text-align: right;\">\n",
       "      <th></th>\n",
       "      <th>date</th>\n",
       "      <th>courseId</th>\n",
       "      <th>courseTitle</th>\n",
       "      <th>courseLink</th>\n",
       "      <th>subtitle</th>\n",
       "      <th>courseProvider</th>\n",
       "      <th>offerPrice</th>\n",
       "      <th>originalPrice</th>\n",
       "      <th>unitSold</th>\n",
       "      <th>category</th>\n",
       "      <th>...</th>\n",
       "      <th>awardingBody</th>\n",
       "      <th>qualName</th>\n",
       "      <th>isRegulated</th>\n",
       "      <th>hasProfCert</th>\n",
       "      <th>soldOrEnq</th>\n",
       "      <th>savingsPercent</th>\n",
       "      <th>broadCategory1</th>\n",
       "      <th>broadCategory2</th>\n",
       "      <th>subCategory1</th>\n",
       "      <th>subCategory2</th>\n",
       "    </tr>\n",
       "  </thead>\n",
       "  <tbody>\n",
       "  </tbody>\n",
       "</table>\n",
       "<p>0 rows × 23 columns</p>\n",
       "</div>"
      ],
      "text/plain": [
       "Empty DataFrame\n",
       "Columns: [date, courseId, courseTitle, courseLink, subtitle, courseProvider, offerPrice, originalPrice, unitSold, category, haveCpd, cpdPoint, cpdProvider, awardingBody, qualName, isRegulated, hasProfCert, soldOrEnq, savingsPercent, broadCategory1, broadCategory2, subCategory1, subCategory2]\n",
       "Index: []\n",
       "\n",
       "[0 rows x 23 columns]"
      ]
     },
     "execution_count": 64,
     "metadata": {},
     "output_type": "execute_result"
    }
   ],
   "source": [
    "# Check for \"na\"\n",
    "isNa = df[df.courseProvider==\"na\"]\n",
    "notNa = df[df.courseProvider!=\"na\"]\n",
    "isNa"
   ]
  }
 ],
 "metadata": {
  "kernelspec": {
   "display_name": "Python 3",
   "language": "python",
   "name": "python3"
  },
  "language_info": {
   "codemirror_mode": {
    "name": "ipython",
    "version": 3
   },
   "file_extension": ".py",
   "mimetype": "text/x-python",
   "name": "python",
   "nbconvert_exporter": "python",
   "pygments_lexer": "ipython3",
   "version": "3.8.8"
  }
 },
 "nbformat": 4,
 "nbformat_minor": 4
}
