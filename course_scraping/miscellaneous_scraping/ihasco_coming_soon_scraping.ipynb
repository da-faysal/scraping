{
 "cells": [
  {
   "cell_type": "code",
   "execution_count": 1,
   "id": "quantitative-broadway",
   "metadata": {},
   "outputs": [],
   "source": [
    "# Import required modules\n",
    "import requests\n",
    "from bs4 import BeautifulSoup\n",
    "import pandas as pd"
   ]
  },
  {
   "cell_type": "code",
   "execution_count": 2,
   "id": "demanding-general",
   "metadata": {},
   "outputs": [],
   "source": [
    "#  Making request\n",
    "r = requests.get(\"https://www.ihasco.co.uk/courses/coming-soon\")\n",
    "s = BeautifulSoup(r.text, \"lxml\")"
   ]
  },
  {
   "cell_type": "code",
   "execution_count": 3,
   "id": "associate-germany",
   "metadata": {},
   "outputs": [],
   "source": [
    "# Main container for every course\n",
    "mainCont = s.findAll(class_=\"col-md-4 col-lg-3 coming-soon-courses\")\n",
    "\n",
    "# Scrape course links\n",
    "courseLink = [x.find(\"a\").get(\"href\") for x in mainCont]\n",
    "\n",
    "# Scrape course titles\n",
    "courseTitle = [x.find(class_=\"title-content-start\").text.strip().replace(\"\\xa0\", \" \") for x in mainCont]"
   ]
  },
  {
   "cell_type": "code",
   "execution_count": 4,
   "id": "worthy-guidance",
   "metadata": {},
   "outputs": [
    {
     "data": {
      "text/html": [
       "<div>\n",
       "<style scoped>\n",
       "    .dataframe tbody tr th:only-of-type {\n",
       "        vertical-align: middle;\n",
       "    }\n",
       "\n",
       "    .dataframe tbody tr th {\n",
       "        vertical-align: top;\n",
       "    }\n",
       "\n",
       "    .dataframe thead th {\n",
       "        text-align: right;\n",
       "    }\n",
       "</style>\n",
       "<table border=\"1\" class=\"dataframe\">\n",
       "  <thead>\n",
       "    <tr style=\"text-align: right;\">\n",
       "      <th></th>\n",
       "      <th>courseTitle</th>\n",
       "      <th>courseLink</th>\n",
       "    </tr>\n",
       "  </thead>\n",
       "  <tbody>\n",
       "    <tr>\n",
       "      <th>0</th>\n",
       "      <td>Critical Thinking Training</td>\n",
       "      <td>https://www.ihasco.co.uk/courses/detail/critic...</td>\n",
       "    </tr>\n",
       "    <tr>\n",
       "      <th>1</th>\n",
       "      <td>Human ResourcesGender Identity &amp; Expression Tr...</td>\n",
       "      <td>https://www.ihasco.co.uk/courses/detail/gender...</td>\n",
       "    </tr>\n",
       "    <tr>\n",
       "      <th>2</th>\n",
       "      <td>Speaking Confidently Training</td>\n",
       "      <td>https://www.ihasco.co.uk/courses/detail/speaki...</td>\n",
       "    </tr>\n",
       "  </tbody>\n",
       "</table>\n",
       "</div>"
      ],
      "text/plain": [
       "                                         courseTitle  \\\n",
       "0                         Critical Thinking Training   \n",
       "1  Human ResourcesGender Identity & Expression Tr...   \n",
       "2                      Speaking Confidently Training   \n",
       "\n",
       "                                          courseLink  \n",
       "0  https://www.ihasco.co.uk/courses/detail/critic...  \n",
       "1  https://www.ihasco.co.uk/courses/detail/gender...  \n",
       "2  https://www.ihasco.co.uk/courses/detail/speaki...  "
      ]
     },
     "execution_count": 4,
     "metadata": {},
     "output_type": "execute_result"
    }
   ],
   "source": [
    "# Create a df off scraped variables\n",
    "df = pd.DataFrame({\n",
    "    \"courseTitle\":courseTitle,\n",
    "    \"courseLink\":courseLink\n",
    "})\n",
    "\n",
    "# Preview tha data\n",
    "df.head()"
   ]
  }
 ],
 "metadata": {
  "kernelspec": {
   "display_name": "Python 3",
   "language": "python",
   "name": "python3"
  },
  "language_info": {
   "codemirror_mode": {
    "name": "ipython",
    "version": 3
   },
   "file_extension": ".py",
   "mimetype": "text/x-python",
   "name": "python",
   "nbconvert_exporter": "python",
   "pygments_lexer": "ipython3",
   "version": "3.8.8"
  }
 },
 "nbformat": 4,
 "nbformat_minor": 5
}
